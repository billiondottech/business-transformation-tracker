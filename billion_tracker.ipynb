{
  "cells": [
    {
      "cell_type": "markdown",
      "metadata": {
        "id": "h_rMveVJj9rE"
      },
      "source": [
        "# 🚀 Billion Transformation Tracker\n",
        "\n",
        "**Track your journey from manual operations to 80% automation**\n",
        "\n",
        "Weekly scorecard for AI Agency Operators\n",
        "\n",
        "---\n",
        "\n",
        "## 📋 How to Use This Notebook\n",
        "\n",
        "1. **First Time Setup**: Run cells 1-3 to install packages and initialize the database\n",
        "2. **Weekly Submissions**: Use the submission cell to log your metrics each week\n",
        "3. **View Progress**: Run the visualization cells anytime to see your transformation\n",
        "4. **Generate Reports**: Get comprehensive reports on your journey\n",
        "\n",
        "🔒 **Privacy Note**: Your actual revenue numbers are NEVER stored. Only ratios relative to YOUR Week 1 baseline are tracked."
      ]
    },
    {
      "cell_type": "code",
      "execution_count": null,
      "metadata": {
        "id": "dncyWii2kygN"
      },
      "outputs": [],
      "source": [
        "# ============================================================================\n",
        "# CUSTOMIZE THESE VALUES FOR YOUR WEEKLY SUBMISSION\n",
        "# ============================================================================\n",
        "WEEK_NUMBER=2  # Change this each week\n",
        "\n",
        "# Time tracking\n",
        "TOTAL_HOURS_WORKED=50\n",
        "AUTOMATED_HOURS=10\n",
        "\n",
        "# Client metrics\n",
        "ACTIVE_CLIENTS=3\n",
        "\n",
        "# Revenue (as ratio: 1.0 for baseline, 1.2 for 20% growth, etc.)\n",
        "REVENUE_RATIO_TO_BASELINE=1.0\n",
        "\n",
        "# Subscription transition (0-100%)\n",
        "RECURRING_REVENUE_PERCENTAGE=20.0\n",
        "\n",
        "# Qualitative feedback\n",
        "WHAT_I_AUTOMATED_THIS_WEEK=\"Onboarding\"\n",
        "BIGGEST_BOTTLENECK_NOW=\"Time\""
      ]
    },
    {
      "cell_type": "markdown",
      "metadata": {
        "id": "1swnsjilj9rH"
      },
      "source": [
        "## 1️⃣ Installation & Setup\n",
        "\n",
        "Run this cell first to install required packages (only needed once)"
      ]
    },
    {
      "cell_type": "code",
      "execution_count": null,
      "metadata": {
        "colab": {
          "base_uri": "https://localhost:8080/"
        },
        "id": "-zlvzfj6j9rI",
        "outputId": "7747bca6-ed80-45e1-e9d9-ae02673d514e"
      },
      "outputs": [
        {
          "output_type": "stream",
          "name": "stdout",
          "text": [
            "✅ All packages installed successfully!\n"
          ]
        }
      ],
      "source": [
        "# Install required packages\n",
        "!pip install polars duckdb plotly kaleido -q\n",
        "\n",
        "print(\"✅ All packages installed successfully!\")"
      ]
    },
    {
      "cell_type": "markdown",
      "metadata": {
        "id": "midmzQ0Nj9rI"
      },
      "source": [
        "## 2️⃣ Import Libraries"
      ]
    },
    {
      "cell_type": "code",
      "execution_count": null,
      "metadata": {
        "colab": {
          "base_uri": "https://localhost:8080/"
        },
        "id": "ZGH3NZVFj9rI",
        "outputId": "9d7287b5-2528-40a0-bbfd-eb13b263d296"
      },
      "outputs": [
        {
          "output_type": "stream",
          "name": "stdout",
          "text": [
            "✅ Libraries imported successfully!\n"
          ]
        }
      ],
      "source": [
        "import polars as pl\n",
        "import duckdb\n",
        "from datetime import datetime, timedelta\n",
        "from pathlib import Path\n",
        "import plotly.graph_objects as go\n",
        "from plotly.subplots import make_subplots\n",
        "import plotly.express as px\n",
        "\n",
        "# Configuration\n",
        "DB_PATH = \"billion_tracker.db\"\n",
        "TABLE_NAME = \"transformation_metrics\"\n",
        "\n",
        "print(\"✅ Libraries imported successfully!\")"
      ]
    },
    {
      "cell_type": "markdown",
      "metadata": {
        "id": "g2xHhd5pj9rI"
      },
      "source": [
        "## 3️⃣ Database Initialization"
      ]
    },
    {
      "cell_type": "code",
      "execution_count": null,
      "metadata": {
        "colab": {
          "base_uri": "https://localhost:8080/"
        },
        "id": "HUn_q__Uj9rJ",
        "outputId": "c8d091ed-8a4b-419a-d315-35a0f80a2b89"
      },
      "outputs": [
        {
          "output_type": "stream",
          "name": "stdout",
          "text": [
            "✅ Database initialized successfully\n"
          ]
        }
      ],
      "source": [
        "def init_database():\n",
        "    \"\"\"Initialize DuckDB database with schema\"\"\"\n",
        "    con = duckdb.connect(DB_PATH)\n",
        "\n",
        "    con.execute(f\"\"\"\n",
        "        CREATE TABLE IF NOT EXISTS {TABLE_NAME} (\n",
        "            week_number INTEGER PRIMARY KEY,\n",
        "            submission_date DATE,\n",
        "\n",
        "            -- Time tracking (hours)\n",
        "            total_hours FLOAT,\n",
        "            automated_hours FLOAT,\n",
        "            manual_hours FLOAT,\n",
        "\n",
        "            -- Client metrics\n",
        "            active_clients INTEGER,\n",
        "\n",
        "            -- Revenue (stored as ratio to baseline for privacy)\n",
        "            revenue_ratio FLOAT,\n",
        "\n",
        "            -- Subscription transition\n",
        "            recurring_revenue_pct FLOAT,\n",
        "\n",
        "            -- Qualitative tracking\n",
        "            automated_this_week TEXT,\n",
        "            biggest_bottleneck TEXT,\n",
        "\n",
        "            -- Calculated fields (stored for historical accuracy)\n",
        "            automation_index FLOAT,\n",
        "            time_saved_vs_baseline FLOAT,\n",
        "            revenue_efficiency_multiple FLOAT,\n",
        "            client_capacity_score FLOAT\n",
        "        )\n",
        "    \"\"\")\n",
        "\n",
        "    con.close()\n",
        "    print(\"✅ Database initialized successfully\")\n",
        "\n",
        "# Initialize the database\n",
        "init_database()"
      ]
    },
    {
      "cell_type": "markdown",
      "metadata": {
        "id": "k5pcIHGrj9rJ"
      },
      "source": [
        "## 4️⃣ Core Functions"
      ]
    },
    {
      "cell_type": "code",
      "execution_count": null,
      "metadata": {
        "id": "w8xC3KLnj9rJ"
      },
      "outputs": [],
      "source": [
        "def submit_weekly_metrics(\n",
        "    week_number: int,\n",
        "    total_hours_worked: float,\n",
        "    automated_hours: float,\n",
        "    active_clients: int,\n",
        "    revenue_ratio_to_baseline: float,\n",
        "    recurring_revenue_percentage: float,\n",
        "    what_i_automated_this_week: str,\n",
        "    biggest_bottleneck_now: str\n",
        "):\n",
        "    \"\"\"Submit your weekly metrics\"\"\"\n",
        "    con = duckdb.connect(DB_PATH)\n",
        "\n",
        "    # Ensure numeric values are floats/ints, not tuples\n",
        "    total_hours_worked = float(total_hours_worked) if not isinstance(total_hours_worked, (list, tuple)) else float(total_hours_worked[0])\n",
        "    automated_hours = float(automated_hours) if not isinstance(automated_hours, (list, tuple)) else float(automated_hours[0])\n",
        "    active_clients = int(active_clients) if not isinstance(active_clients, (list, tuple)) else int(active_clients[0])\n",
        "    revenue_ratio_to_baseline = float(revenue_ratio_to_baseline) if not isinstance(revenue_ratio_to_baseline, (list, tuple)) else float(revenue_ratio_to_baseline[0])\n",
        "    recurring_revenue_percentage = float(recurring_revenue_percentage) if not isinstance(recurring_revenue_percentage, (list, tuple)) else float(recurring_revenue_percentage[0])\n",
        "\n",
        "    manual_hours = total_hours_worked - automated_hours\n",
        "    automation_index = (automated_hours / total_hours_worked * 100) if total_hours_worked > 0 else 0\n",
        "\n",
        "    baseline = con.execute(f\"\"\"\n",
        "        SELECT total_hours, active_clients, revenue_ratio\n",
        "        FROM {TABLE_NAME} WHERE week_number = 1\n",
        "    \"\"\").fetchone()\n",
        "\n",
        "    if baseline and week_number > 1:\n",
        "        baseline_hours, baseline_clients, baseline_revenue = baseline\n",
        "        time_saved = baseline_hours - total_hours_worked\n",
        "        revenue_efficiency_multiple = (revenue_ratio_to_baseline / total_hours_worked) / (baseline_revenue / baseline_hours)\n",
        "        client_capacity_score = (active_clients / total_hours_worked) / (baseline_clients / baseline_hours)\n",
        "    else:\n",
        "        time_saved = 0\n",
        "        revenue_efficiency_multiple = 1.0\n",
        "        client_capacity_score = 1.0\n",
        "\n",
        "    con.execute(f\"\"\"\n",
        "        INSERT OR REPLACE INTO {TABLE_NAME} VALUES (?, ?, ?, ?, ?, ?, ?, ?, ?, ?, ?, ?, ?, ?)\n",
        "    \"\"\", [\n",
        "        week_number, datetime.now().date(), total_hours_worked, automated_hours, manual_hours,\n",
        "        active_clients, revenue_ratio_to_baseline, recurring_revenue_percentage,\n",
        "        what_i_automated_this_week, biggest_bottleneck_now,\n",
        "        automation_index, time_saved, revenue_efficiency_multiple, client_capacity_score\n",
        "    ])\n",
        "\n",
        "    con.close()\n",
        "    print(f\"✅ Week {week_number} metrics submitted successfully!\")\n",
        "    print(f\"📊 Automation Index: {automation_index:.1f}%\")\n",
        "    print(f\"⏰ Time Saved vs Baseline: {time_saved:.1f} hours/week\")\n",
        "    print(f\"📈 Revenue Efficiency Multiple: {revenue_efficiency_multiple:.2f}x\")"
      ]
    },
    {
      "cell_type": "markdown",
      "metadata": {
        "id": "xbiBGn4wj9rK"
      },
      "source": [
        "---\n",
        "\n",
        "# 📝 Weekly Data Entry\n",
        "\n",
        "## Submit Your Weekly Metrics\n",
        "\n",
        "Fill in your metrics below and run the cell to submit."
      ]
    },
    {
      "cell_type": "code",
      "execution_count": null,
      "metadata": {
        "colab": {
          "base_uri": "https://localhost:8080/"
        },
        "id": "3rrSUQe5j9rK",
        "outputId": "80f99628-2558-429d-a915-06763ab33f74"
      },
      "outputs": [
        {
          "output_type": "stream",
          "name": "stdout",
          "text": [
            "✅ Week 2 metrics submitted successfully!\n",
            "📊 Automation Index: 20.0%\n",
            "⏰ Time Saved vs Baseline: -10.0 hours/week\n",
            "📈 Revenue Efficiency Multiple: 0.80x\n"
          ]
        }
      ],
      "source": [
        "\n",
        "\n",
        "submit_weekly_metrics(\n",
        "    week_number=WEEK_NUMBER,\n",
        "\n",
        "    # Time tracking\n",
        "    total_hours_worked=TOTAL_HOURS_WORKED,\n",
        "    automated_hours=AUTOMATED_HOURS,\n",
        "\n",
        "    # Client metrics\n",
        "    active_clients=ACTIVE_CLIENTS,\n",
        "\n",
        "    # Revenue (as ratio: 1.0 for baseline, 1.2 for 20% growth, etc.)\n",
        "    revenue_ratio_to_baseline=REVENUE_RATIO_TO_BASELINE,\n",
        "\n",
        "    # Subscription transition (0-100%)\n",
        "    recurring_revenue_percentage=RECURRING_REVENUE_PERCENTAGE,\n",
        "\n",
        "    # Qualitative feedback\n",
        "    what_i_automated_this_week=WHAT_I_AUTOMATED_THIS_WEEK,\n",
        "    biggest_bottleneck_now=\"Client onboarding process\"\n",
        ")"
      ]
    },
    {
      "cell_type": "markdown",
      "metadata": {
        "id": "XdDO_DMRj9rK"
      },
      "source": [
        "---\n",
        "\n",
        "# 📊 Progress Visualization\n",
        "\n",
        "## Quick Progress Table"
      ]
    },
    {
      "cell_type": "code",
      "execution_count": null,
      "metadata": {
        "colab": {
          "base_uri": "https://localhost:8080/"
        },
        "id": "Ax6FEvz3j9rK",
        "outputId": "10405f37-b713-4095-d9be-1e5df28df05c"
      },
      "outputs": [
        {
          "output_type": "stream",
          "name": "stdout",
          "text": [
            "\n",
            "================================================================================\n",
            "📊 YOUR TRANSFORMATION PROGRESS\n",
            "================================================================================\n",
            "shape: (2, 6)\n",
            "┌──────┬──────────────┬─────────────┬────────────────┬─────────────────┬─────────────┐\n",
            "│ Week ┆ Automation % ┆ Hours Saved ┆ Rev Efficiency ┆ Client Capacity ┆ Recurring % │\n",
            "│ ---  ┆ ---          ┆ ---         ┆ ---            ┆ ---             ┆ ---         │\n",
            "│ i32  ┆ f32          ┆ f32         ┆ f32            ┆ f32             ┆ f32         │\n",
            "╞══════╪══════════════╪═════════════╪════════════════╪═════════════════╪═════════════╡\n",
            "│ 1    ┆ 20.0         ┆ 0.0         ┆ 1.0            ┆ 1.0             ┆ 20.0        │\n",
            "│ 2    ┆ 20.0         ┆ -10.0       ┆ 0.8            ┆ 0.48            ┆ 20.0        │\n",
            "└──────┴──────────────┴─────────────┴────────────────┴─────────────────┴─────────────┘\n",
            "================================================================================\n",
            "\n",
            "📅 Week 2 Summary:\n",
            "   🤖 Automated this week: Onboarding\n",
            "   🚧 Biggest bottleneck: Client onboarding process\n",
            "\n"
          ]
        }
      ],
      "source": [
        "def print_progress_table():\n",
        "    \"\"\"Display formatted progress table\"\"\"\n",
        "    df = get_metrics_df()\n",
        "\n",
        "    if df.height == 0:\n",
        "        print(\"❌ No data yet. Submit your first week's metrics!\")\n",
        "        return\n",
        "\n",
        "    # Select and rename columns for display\n",
        "    display_df = df.select([\n",
        "        pl.col(\"week_number\").alias(\"Week\"),\n",
        "        pl.col(\"automation_index\").round(1).alias(\"Automation %\"),\n",
        "        pl.col(\"time_saved_vs_baseline\").round(1).alias(\"Hours Saved\"),\n",
        "        pl.col(\"revenue_efficiency_multiple\").round(2).alias(\"Rev Efficiency\"),\n",
        "        pl.col(\"client_capacity_score\").round(2).alias(\"Client Capacity\"),\n",
        "        pl.col(\"recurring_revenue_pct\").round(1).alias(\"Recurring %\")\n",
        "    ])\n",
        "\n",
        "    print(\"\\n\" + \"=\"*80)\n",
        "    print(\"📊 YOUR TRANSFORMATION PROGRESS\")\n",
        "    print(\"=\"*80)\n",
        "    print(display_df)\n",
        "    print(\"=\"*80 + \"\\n\")\n",
        "\n",
        "    # Latest week summary\n",
        "    latest = df.tail(1)\n",
        "    week_num = latest[\"week_number\"][0]\n",
        "\n",
        "    print(f\"📅 Week {week_num} Summary:\")\n",
        "    print(f\"   🤖 Automated this week: {latest['automated_this_week'][0]}\")\n",
        "    print(f\"   🚧 Biggest bottleneck: {latest['biggest_bottleneck'][0]}\")\n",
        "    print()\n",
        "\n",
        "# Display the progress table\n",
        "print_progress_table()"
      ]
    },
    {
      "cell_type": "markdown",
      "metadata": {
        "id": "K-n9VmE-j9rK"
      },
      "source": [
        "## 📈 Interactive Visualizations"
      ]
    },
    {
      "cell_type": "code",
      "execution_count": null,
      "metadata": {
        "colab": {
          "base_uri": "https://localhost:8080/",
          "height": 1000
        },
        "id": "WaKsvMfAj9rK",
        "outputId": "c5995c5f-75c2-4873-9db9-dd6f3e19c379"
      },
      "outputs": [
        {
          "output_type": "display_data",
          "data": {
            "text/html": [
              "<html>\n",
              "<head><meta charset=\"utf-8\" /></head>\n",
              "<body>\n",
              "    <div>            <script src=\"https://cdnjs.cloudflare.com/ajax/libs/mathjax/2.7.5/MathJax.js?config=TeX-AMS-MML_SVG\"></script><script type=\"text/javascript\">if (window.MathJax && window.MathJax.Hub && window.MathJax.Hub.Config) {window.MathJax.Hub.Config({SVG: {font: \"STIX-Web\"}});}</script>                <script type=\"text/javascript\">window.PlotlyConfig = {MathJaxConfig: 'local'};</script>\n",
              "        <script charset=\"utf-8\" src=\"https://cdn.plot.ly/plotly-2.35.2.min.js\"></script>                <div id=\"74e1eaeb-999b-4816-9f3a-79d9647411ad\" class=\"plotly-graph-div\" style=\"height:800px; width:100%;\"></div>            <script type=\"text/javascript\">                                    window.PLOTLYENV=window.PLOTLYENV || {};                                    if (document.getElementById(\"74e1eaeb-999b-4816-9f3a-79d9647411ad\")) {                    Plotly.newPlot(                        \"74e1eaeb-999b-4816-9f3a-79d9647411ad\",                        [{\"line\":{\"color\":\"#00D9FF\",\"width\":3},\"marker\":{\"size\":10},\"mode\":\"lines+markers\",\"name\":\"Automation %\",\"x\":[1,2],\"y\":[20.0,20.0],\"type\":\"scatter\",\"xaxis\":\"x\",\"yaxis\":\"y\"},{\"line\":{\"color\":\"#00FF88\",\"dash\":\"dash\",\"width\":2},\"mode\":\"lines\",\"name\":\"Target (80%)\",\"showlegend\":false,\"x\":[1,2],\"y\":[80,80],\"type\":\"scatter\",\"xaxis\":\"x\",\"yaxis\":\"y\"},{\"fill\":\"tozeroy\",\"fillcolor\":\"rgba(255, 107, 107, 0.2)\",\"line\":{\"color\":\"#FF6B6B\",\"width\":3},\"marker\":{\"size\":10},\"mode\":\"lines+markers\",\"name\":\"Hours Saved\",\"x\":[1,2],\"y\":[0.0,-10.0],\"type\":\"scatter\",\"xaxis\":\"x2\",\"yaxis\":\"y2\"},{\"line\":{\"color\":\"#4ECDC4\",\"width\":3},\"marker\":{\"size\":10},\"mode\":\"lines+markers\",\"name\":\"Revenue Efficiency\",\"x\":[1,2],\"y\":[1.0,0.8],\"type\":\"scatter\",\"xaxis\":\"x3\",\"yaxis\":\"y3\"},{\"line\":{\"color\":\"#95E1D3\",\"width\":3},\"marker\":{\"size\":10},\"mode\":\"lines+markers\",\"name\":\"Client Capacity\",\"x\":[1,2],\"y\":[1.0,0.48],\"type\":\"scatter\",\"xaxis\":\"x3\",\"yaxis\":\"y3\"},{\"line\":{\"color\":\"gray\",\"dash\":\"dot\",\"width\":1},\"mode\":\"lines\",\"name\":\"Baseline (1.0x)\",\"showlegend\":false,\"x\":[1,2],\"y\":[1.0,1.0],\"type\":\"scatter\",\"xaxis\":\"x3\",\"yaxis\":\"y3\"},{\"fill\":\"tozeroy\",\"fillcolor\":\"rgba(255, 217, 61, 0.2)\",\"line\":{\"color\":\"#FFD93D\",\"width\":3},\"marker\":{\"size\":10},\"mode\":\"lines+markers\",\"name\":\"Recurring Revenue %\",\"x\":[1,2],\"y\":[20.0,20.0],\"type\":\"scatter\",\"xaxis\":\"x4\",\"yaxis\":\"y4\"},{\"line\":{\"color\":\"#00FF88\",\"dash\":\"dash\",\"width\":2},\"mode\":\"lines\",\"name\":\"Target (50%)\",\"showlegend\":false,\"x\":[1,2],\"y\":[50,50],\"type\":\"scatter\",\"xaxis\":\"x4\",\"yaxis\":\"y4\"}],                        {\"template\":{\"data\":{\"histogram2dcontour\":[{\"type\":\"histogram2dcontour\",\"colorbar\":{\"outlinewidth\":0,\"ticks\":\"\"},\"colorscale\":[[0.0,\"#0d0887\"],[0.1111111111111111,\"#46039f\"],[0.2222222222222222,\"#7201a8\"],[0.3333333333333333,\"#9c179e\"],[0.4444444444444444,\"#bd3786\"],[0.5555555555555556,\"#d8576b\"],[0.6666666666666666,\"#ed7953\"],[0.7777777777777778,\"#fb9f3a\"],[0.8888888888888888,\"#fdca26\"],[1.0,\"#f0f921\"]]}],\"choropleth\":[{\"type\":\"choropleth\",\"colorbar\":{\"outlinewidth\":0,\"ticks\":\"\"}}],\"histogram2d\":[{\"type\":\"histogram2d\",\"colorbar\":{\"outlinewidth\":0,\"ticks\":\"\"},\"colorscale\":[[0.0,\"#0d0887\"],[0.1111111111111111,\"#46039f\"],[0.2222222222222222,\"#7201a8\"],[0.3333333333333333,\"#9c179e\"],[0.4444444444444444,\"#bd3786\"],[0.5555555555555556,\"#d8576b\"],[0.6666666666666666,\"#ed7953\"],[0.7777777777777778,\"#fb9f3a\"],[0.8888888888888888,\"#fdca26\"],[1.0,\"#f0f921\"]]}],\"heatmap\":[{\"type\":\"heatmap\",\"colorbar\":{\"outlinewidth\":0,\"ticks\":\"\"},\"colorscale\":[[0.0,\"#0d0887\"],[0.1111111111111111,\"#46039f\"],[0.2222222222222222,\"#7201a8\"],[0.3333333333333333,\"#9c179e\"],[0.4444444444444444,\"#bd3786\"],[0.5555555555555556,\"#d8576b\"],[0.6666666666666666,\"#ed7953\"],[0.7777777777777778,\"#fb9f3a\"],[0.8888888888888888,\"#fdca26\"],[1.0,\"#f0f921\"]]}],\"heatmapgl\":[{\"type\":\"heatmapgl\",\"colorbar\":{\"outlinewidth\":0,\"ticks\":\"\"},\"colorscale\":[[0.0,\"#0d0887\"],[0.1111111111111111,\"#46039f\"],[0.2222222222222222,\"#7201a8\"],[0.3333333333333333,\"#9c179e\"],[0.4444444444444444,\"#bd3786\"],[0.5555555555555556,\"#d8576b\"],[0.6666666666666666,\"#ed7953\"],[0.7777777777777778,\"#fb9f3a\"],[0.8888888888888888,\"#fdca26\"],[1.0,\"#f0f921\"]]}],\"contourcarpet\":[{\"type\":\"contourcarpet\",\"colorbar\":{\"outlinewidth\":0,\"ticks\":\"\"}}],\"contour\":[{\"type\":\"contour\",\"colorbar\":{\"outlinewidth\":0,\"ticks\":\"\"},\"colorscale\":[[0.0,\"#0d0887\"],[0.1111111111111111,\"#46039f\"],[0.2222222222222222,\"#7201a8\"],[0.3333333333333333,\"#9c179e\"],[0.4444444444444444,\"#bd3786\"],[0.5555555555555556,\"#d8576b\"],[0.6666666666666666,\"#ed7953\"],[0.7777777777777778,\"#fb9f3a\"],[0.8888888888888888,\"#fdca26\"],[1.0,\"#f0f921\"]]}],\"surface\":[{\"type\":\"surface\",\"colorbar\":{\"outlinewidth\":0,\"ticks\":\"\"},\"colorscale\":[[0.0,\"#0d0887\"],[0.1111111111111111,\"#46039f\"],[0.2222222222222222,\"#7201a8\"],[0.3333333333333333,\"#9c179e\"],[0.4444444444444444,\"#bd3786\"],[0.5555555555555556,\"#d8576b\"],[0.6666666666666666,\"#ed7953\"],[0.7777777777777778,\"#fb9f3a\"],[0.8888888888888888,\"#fdca26\"],[1.0,\"#f0f921\"]]}],\"mesh3d\":[{\"type\":\"mesh3d\",\"colorbar\":{\"outlinewidth\":0,\"ticks\":\"\"}}],\"scatter\":[{\"fillpattern\":{\"fillmode\":\"overlay\",\"size\":10,\"solidity\":0.2},\"type\":\"scatter\"}],\"parcoords\":[{\"type\":\"parcoords\",\"line\":{\"colorbar\":{\"outlinewidth\":0,\"ticks\":\"\"}}}],\"scatterpolargl\":[{\"type\":\"scatterpolargl\",\"marker\":{\"colorbar\":{\"outlinewidth\":0,\"ticks\":\"\"}}}],\"bar\":[{\"error_x\":{\"color\":\"#2a3f5f\"},\"error_y\":{\"color\":\"#2a3f5f\"},\"marker\":{\"line\":{\"color\":\"#E5ECF6\",\"width\":0.5},\"pattern\":{\"fillmode\":\"overlay\",\"size\":10,\"solidity\":0.2}},\"type\":\"bar\"}],\"scattergeo\":[{\"type\":\"scattergeo\",\"marker\":{\"colorbar\":{\"outlinewidth\":0,\"ticks\":\"\"}}}],\"scatterpolar\":[{\"type\":\"scatterpolar\",\"marker\":{\"colorbar\":{\"outlinewidth\":0,\"ticks\":\"\"}}}],\"histogram\":[{\"marker\":{\"pattern\":{\"fillmode\":\"overlay\",\"size\":10,\"solidity\":0.2}},\"type\":\"histogram\"}],\"scattergl\":[{\"type\":\"scattergl\",\"marker\":{\"colorbar\":{\"outlinewidth\":0,\"ticks\":\"\"}}}],\"scatter3d\":[{\"type\":\"scatter3d\",\"line\":{\"colorbar\":{\"outlinewidth\":0,\"ticks\":\"\"}},\"marker\":{\"colorbar\":{\"outlinewidth\":0,\"ticks\":\"\"}}}],\"scattermapbox\":[{\"type\":\"scattermapbox\",\"marker\":{\"colorbar\":{\"outlinewidth\":0,\"ticks\":\"\"}}}],\"scatterternary\":[{\"type\":\"scatterternary\",\"marker\":{\"colorbar\":{\"outlinewidth\":0,\"ticks\":\"\"}}}],\"scattercarpet\":[{\"type\":\"scattercarpet\",\"marker\":{\"colorbar\":{\"outlinewidth\":0,\"ticks\":\"\"}}}],\"carpet\":[{\"aaxis\":{\"endlinecolor\":\"#2a3f5f\",\"gridcolor\":\"white\",\"linecolor\":\"white\",\"minorgridcolor\":\"white\",\"startlinecolor\":\"#2a3f5f\"},\"baxis\":{\"endlinecolor\":\"#2a3f5f\",\"gridcolor\":\"white\",\"linecolor\":\"white\",\"minorgridcolor\":\"white\",\"startlinecolor\":\"#2a3f5f\"},\"type\":\"carpet\"}],\"table\":[{\"cells\":{\"fill\":{\"color\":\"#EBF0F8\"},\"line\":{\"color\":\"white\"}},\"header\":{\"fill\":{\"color\":\"#C8D4E3\"},\"line\":{\"color\":\"white\"}},\"type\":\"table\"}],\"barpolar\":[{\"marker\":{\"line\":{\"color\":\"#E5ECF6\",\"width\":0.5},\"pattern\":{\"fillmode\":\"overlay\",\"size\":10,\"solidity\":0.2}},\"type\":\"barpolar\"}],\"pie\":[{\"automargin\":true,\"type\":\"pie\"}]},\"layout\":{\"autotypenumbers\":\"strict\",\"colorway\":[\"#636efa\",\"#EF553B\",\"#00cc96\",\"#ab63fa\",\"#FFA15A\",\"#19d3f3\",\"#FF6692\",\"#B6E880\",\"#FF97FF\",\"#FECB52\"],\"font\":{\"color\":\"#2a3f5f\"},\"hovermode\":\"closest\",\"hoverlabel\":{\"align\":\"left\"},\"paper_bgcolor\":\"white\",\"plot_bgcolor\":\"#E5ECF6\",\"polar\":{\"bgcolor\":\"#E5ECF6\",\"angularaxis\":{\"gridcolor\":\"white\",\"linecolor\":\"white\",\"ticks\":\"\"},\"radialaxis\":{\"gridcolor\":\"white\",\"linecolor\":\"white\",\"ticks\":\"\"}},\"ternary\":{\"bgcolor\":\"#E5ECF6\",\"aaxis\":{\"gridcolor\":\"white\",\"linecolor\":\"white\",\"ticks\":\"\"},\"baxis\":{\"gridcolor\":\"white\",\"linecolor\":\"white\",\"ticks\":\"\"},\"caxis\":{\"gridcolor\":\"white\",\"linecolor\":\"white\",\"ticks\":\"\"}},\"coloraxis\":{\"colorbar\":{\"outlinewidth\":0,\"ticks\":\"\"}},\"colorscale\":{\"sequential\":[[0.0,\"#0d0887\"],[0.1111111111111111,\"#46039f\"],[0.2222222222222222,\"#7201a8\"],[0.3333333333333333,\"#9c179e\"],[0.4444444444444444,\"#bd3786\"],[0.5555555555555556,\"#d8576b\"],[0.6666666666666666,\"#ed7953\"],[0.7777777777777778,\"#fb9f3a\"],[0.8888888888888888,\"#fdca26\"],[1.0,\"#f0f921\"]],\"sequentialminus\":[[0.0,\"#0d0887\"],[0.1111111111111111,\"#46039f\"],[0.2222222222222222,\"#7201a8\"],[0.3333333333333333,\"#9c179e\"],[0.4444444444444444,\"#bd3786\"],[0.5555555555555556,\"#d8576b\"],[0.6666666666666666,\"#ed7953\"],[0.7777777777777778,\"#fb9f3a\"],[0.8888888888888888,\"#fdca26\"],[1.0,\"#f0f921\"]],\"diverging\":[[0,\"#8e0152\"],[0.1,\"#c51b7d\"],[0.2,\"#de77ae\"],[0.3,\"#f1b6da\"],[0.4,\"#fde0ef\"],[0.5,\"#f7f7f7\"],[0.6,\"#e6f5d0\"],[0.7,\"#b8e186\"],[0.8,\"#7fbc41\"],[0.9,\"#4d9221\"],[1,\"#276419\"]]},\"xaxis\":{\"gridcolor\":\"white\",\"linecolor\":\"white\",\"ticks\":\"\",\"title\":{\"standoff\":15},\"zerolinecolor\":\"white\",\"automargin\":true,\"zerolinewidth\":2},\"yaxis\":{\"gridcolor\":\"white\",\"linecolor\":\"white\",\"ticks\":\"\",\"title\":{\"standoff\":15},\"zerolinecolor\":\"white\",\"automargin\":true,\"zerolinewidth\":2},\"scene\":{\"xaxis\":{\"backgroundcolor\":\"#E5ECF6\",\"gridcolor\":\"white\",\"linecolor\":\"white\",\"showbackground\":true,\"ticks\":\"\",\"zerolinecolor\":\"white\",\"gridwidth\":2},\"yaxis\":{\"backgroundcolor\":\"#E5ECF6\",\"gridcolor\":\"white\",\"linecolor\":\"white\",\"showbackground\":true,\"ticks\":\"\",\"zerolinecolor\":\"white\",\"gridwidth\":2},\"zaxis\":{\"backgroundcolor\":\"#E5ECF6\",\"gridcolor\":\"white\",\"linecolor\":\"white\",\"showbackground\":true,\"ticks\":\"\",\"zerolinecolor\":\"white\",\"gridwidth\":2}},\"shapedefaults\":{\"line\":{\"color\":\"#2a3f5f\"}},\"annotationdefaults\":{\"arrowcolor\":\"#2a3f5f\",\"arrowhead\":0,\"arrowwidth\":1},\"geo\":{\"bgcolor\":\"white\",\"landcolor\":\"#E5ECF6\",\"subunitcolor\":\"white\",\"showland\":true,\"showlakes\":true,\"lakecolor\":\"white\"},\"title\":{\"x\":0.05},\"mapbox\":{\"style\":\"light\"}}},\"xaxis\":{\"anchor\":\"y\",\"domain\":[0.0,0.45],\"title\":{\"text\":\"Week\"}},\"yaxis\":{\"anchor\":\"x\",\"domain\":[0.56,1.0],\"title\":{\"text\":\"%\"}},\"xaxis2\":{\"anchor\":\"y2\",\"domain\":[0.55,1.0],\"title\":{\"text\":\"Week\"}},\"yaxis2\":{\"anchor\":\"x2\",\"domain\":[0.56,1.0],\"title\":{\"text\":\"Hours\"}},\"xaxis3\":{\"anchor\":\"y3\",\"domain\":[0.0,0.45],\"title\":{\"text\":\"Week\"}},\"yaxis3\":{\"anchor\":\"x3\",\"domain\":[0.0,0.44],\"title\":{\"text\":\"Multiple (x)\"}},\"xaxis4\":{\"anchor\":\"y4\",\"domain\":[0.55,1.0],\"title\":{\"text\":\"Week\"}},\"yaxis4\":{\"anchor\":\"x4\",\"domain\":[0.0,0.44],\"title\":{\"text\":\"%\"}},\"annotations\":[{\"font\":{\"size\":16},\"showarrow\":false,\"text\":\"🤖 Automation Index (Target: 80%)\",\"x\":0.225,\"xanchor\":\"center\",\"xref\":\"paper\",\"y\":1.0,\"yanchor\":\"bottom\",\"yref\":\"paper\"},{\"font\":{\"size\":16},\"showarrow\":false,\"text\":\"⏰ Time Liberation Score\",\"x\":0.775,\"xanchor\":\"center\",\"xref\":\"paper\",\"y\":1.0,\"yanchor\":\"bottom\",\"yref\":\"paper\"},{\"font\":{\"size\":16},\"showarrow\":false,\"text\":\"📈 Revenue & Client Efficiency\",\"x\":0.225,\"xanchor\":\"center\",\"xref\":\"paper\",\"y\":0.44,\"yanchor\":\"bottom\",\"yref\":\"paper\"},{\"font\":{\"size\":16},\"showarrow\":false,\"text\":\"💰 Subscription Transition (Target: 50%)\",\"x\":0.775,\"xanchor\":\"center\",\"xref\":\"paper\",\"y\":0.44,\"yanchor\":\"bottom\",\"yref\":\"paper\"}],\"title\":{\"font\":{\"size\":24},\"text\":\"\\u003cb\\u003eBillion Transformation Dashboard\\u003c\\u002fb\\u003e\"},\"font\":{\"size\":12},\"showlegend\":true,\"height\":800,\"plot_bgcolor\":\"rgba(0,0,0,0)\",\"paper_bgcolor\":\"white\"},                        {\"responsive\": true}                    ).then(function(){\n",
              "                            \n",
              "var gd = document.getElementById('74e1eaeb-999b-4816-9f3a-79d9647411ad');\n",
              "var x = new MutationObserver(function (mutations, observer) {{\n",
              "        var display = window.getComputedStyle(gd).display;\n",
              "        if (!display || display === 'none') {{\n",
              "            console.log([gd, 'removed!']);\n",
              "            Plotly.purge(gd);\n",
              "            observer.disconnect();\n",
              "        }}\n",
              "}});\n",
              "\n",
              "// Listen for the removal of the full notebook cells\n",
              "var notebookContainer = gd.closest('#notebook-container');\n",
              "if (notebookContainer) {{\n",
              "    x.observe(notebookContainer, {childList: true});\n",
              "}}\n",
              "\n",
              "// Listen for the clearing of the current output cell\n",
              "var outputEl = gd.closest('.output');\n",
              "if (outputEl) {{\n",
              "    x.observe(outputEl, {childList: true});\n",
              "}}\n",
              "\n",
              "                        })                };                            </script>        </div>\n",
              "</body>\n",
              "</html>"
            ]
          },
          "metadata": {}
        },
        {
          "output_type": "display_data",
          "data": {
            "text/html": [
              "<html>\n",
              "<head><meta charset=\"utf-8\" /></head>\n",
              "<body>\n",
              "    <div>            <script src=\"https://cdnjs.cloudflare.com/ajax/libs/mathjax/2.7.5/MathJax.js?config=TeX-AMS-MML_SVG\"></script><script type=\"text/javascript\">if (window.MathJax && window.MathJax.Hub && window.MathJax.Hub.Config) {window.MathJax.Hub.Config({SVG: {font: \"STIX-Web\"}});}</script>                <script type=\"text/javascript\">window.PlotlyConfig = {MathJaxConfig: 'local'};</script>\n",
              "        <script charset=\"utf-8\" src=\"https://cdn.plot.ly/plotly-2.35.2.min.js\"></script>                <div id=\"80f1dcba-1bdf-4b21-acb2-df3d973ad604\" class=\"plotly-graph-div\" style=\"height:400px; width:100%;\"></div>            <script type=\"text/javascript\">                                    window.PLOTLYENV=window.PLOTLYENV || {};                                    if (document.getElementById(\"80f1dcba-1bdf-4b21-acb2-df3d973ad604\")) {                    Plotly.newPlot(                        \"80f1dcba-1bdf-4b21-acb2-df3d973ad604\",                        [{\"marker\":{\"color\":\"#00D9FF\"},\"name\":\"Automated Hours\",\"x\":[1,2],\"y\":[8.0,10.0],\"type\":\"bar\"},{\"marker\":{\"color\":\"#FF6B6B\"},\"name\":\"Manual Hours\",\"x\":[1,2],\"y\":[32.0,40.0],\"type\":\"bar\"}],                        {\"template\":{\"data\":{\"histogram2dcontour\":[{\"type\":\"histogram2dcontour\",\"colorbar\":{\"outlinewidth\":0,\"ticks\":\"\"},\"colorscale\":[[0.0,\"#0d0887\"],[0.1111111111111111,\"#46039f\"],[0.2222222222222222,\"#7201a8\"],[0.3333333333333333,\"#9c179e\"],[0.4444444444444444,\"#bd3786\"],[0.5555555555555556,\"#d8576b\"],[0.6666666666666666,\"#ed7953\"],[0.7777777777777778,\"#fb9f3a\"],[0.8888888888888888,\"#fdca26\"],[1.0,\"#f0f921\"]]}],\"choropleth\":[{\"type\":\"choropleth\",\"colorbar\":{\"outlinewidth\":0,\"ticks\":\"\"}}],\"histogram2d\":[{\"type\":\"histogram2d\",\"colorbar\":{\"outlinewidth\":0,\"ticks\":\"\"},\"colorscale\":[[0.0,\"#0d0887\"],[0.1111111111111111,\"#46039f\"],[0.2222222222222222,\"#7201a8\"],[0.3333333333333333,\"#9c179e\"],[0.4444444444444444,\"#bd3786\"],[0.5555555555555556,\"#d8576b\"],[0.6666666666666666,\"#ed7953\"],[0.7777777777777778,\"#fb9f3a\"],[0.8888888888888888,\"#fdca26\"],[1.0,\"#f0f921\"]]}],\"heatmap\":[{\"type\":\"heatmap\",\"colorbar\":{\"outlinewidth\":0,\"ticks\":\"\"},\"colorscale\":[[0.0,\"#0d0887\"],[0.1111111111111111,\"#46039f\"],[0.2222222222222222,\"#7201a8\"],[0.3333333333333333,\"#9c179e\"],[0.4444444444444444,\"#bd3786\"],[0.5555555555555556,\"#d8576b\"],[0.6666666666666666,\"#ed7953\"],[0.7777777777777778,\"#fb9f3a\"],[0.8888888888888888,\"#fdca26\"],[1.0,\"#f0f921\"]]}],\"heatmapgl\":[{\"type\":\"heatmapgl\",\"colorbar\":{\"outlinewidth\":0,\"ticks\":\"\"},\"colorscale\":[[0.0,\"#0d0887\"],[0.1111111111111111,\"#46039f\"],[0.2222222222222222,\"#7201a8\"],[0.3333333333333333,\"#9c179e\"],[0.4444444444444444,\"#bd3786\"],[0.5555555555555556,\"#d8576b\"],[0.6666666666666666,\"#ed7953\"],[0.7777777777777778,\"#fb9f3a\"],[0.8888888888888888,\"#fdca26\"],[1.0,\"#f0f921\"]]}],\"contourcarpet\":[{\"type\":\"contourcarpet\",\"colorbar\":{\"outlinewidth\":0,\"ticks\":\"\"}}],\"contour\":[{\"type\":\"contour\",\"colorbar\":{\"outlinewidth\":0,\"ticks\":\"\"},\"colorscale\":[[0.0,\"#0d0887\"],[0.1111111111111111,\"#46039f\"],[0.2222222222222222,\"#7201a8\"],[0.3333333333333333,\"#9c179e\"],[0.4444444444444444,\"#bd3786\"],[0.5555555555555556,\"#d8576b\"],[0.6666666666666666,\"#ed7953\"],[0.7777777777777778,\"#fb9f3a\"],[0.8888888888888888,\"#fdca26\"],[1.0,\"#f0f921\"]]}],\"surface\":[{\"type\":\"surface\",\"colorbar\":{\"outlinewidth\":0,\"ticks\":\"\"},\"colorscale\":[[0.0,\"#0d0887\"],[0.1111111111111111,\"#46039f\"],[0.2222222222222222,\"#7201a8\"],[0.3333333333333333,\"#9c179e\"],[0.4444444444444444,\"#bd3786\"],[0.5555555555555556,\"#d8576b\"],[0.6666666666666666,\"#ed7953\"],[0.7777777777777778,\"#fb9f3a\"],[0.8888888888888888,\"#fdca26\"],[1.0,\"#f0f921\"]]}],\"mesh3d\":[{\"type\":\"mesh3d\",\"colorbar\":{\"outlinewidth\":0,\"ticks\":\"\"}}],\"scatter\":[{\"fillpattern\":{\"fillmode\":\"overlay\",\"size\":10,\"solidity\":0.2},\"type\":\"scatter\"}],\"parcoords\":[{\"type\":\"parcoords\",\"line\":{\"colorbar\":{\"outlinewidth\":0,\"ticks\":\"\"}}}],\"scatterpolargl\":[{\"type\":\"scatterpolargl\",\"marker\":{\"colorbar\":{\"outlinewidth\":0,\"ticks\":\"\"}}}],\"bar\":[{\"error_x\":{\"color\":\"#2a3f5f\"},\"error_y\":{\"color\":\"#2a3f5f\"},\"marker\":{\"line\":{\"color\":\"#E5ECF6\",\"width\":0.5},\"pattern\":{\"fillmode\":\"overlay\",\"size\":10,\"solidity\":0.2}},\"type\":\"bar\"}],\"scattergeo\":[{\"type\":\"scattergeo\",\"marker\":{\"colorbar\":{\"outlinewidth\":0,\"ticks\":\"\"}}}],\"scatterpolar\":[{\"type\":\"scatterpolar\",\"marker\":{\"colorbar\":{\"outlinewidth\":0,\"ticks\":\"\"}}}],\"histogram\":[{\"marker\":{\"pattern\":{\"fillmode\":\"overlay\",\"size\":10,\"solidity\":0.2}},\"type\":\"histogram\"}],\"scattergl\":[{\"type\":\"scattergl\",\"marker\":{\"colorbar\":{\"outlinewidth\":0,\"ticks\":\"\"}}}],\"scatter3d\":[{\"type\":\"scatter3d\",\"line\":{\"colorbar\":{\"outlinewidth\":0,\"ticks\":\"\"}},\"marker\":{\"colorbar\":{\"outlinewidth\":0,\"ticks\":\"\"}}}],\"scattermapbox\":[{\"type\":\"scattermapbox\",\"marker\":{\"colorbar\":{\"outlinewidth\":0,\"ticks\":\"\"}}}],\"scatterternary\":[{\"type\":\"scatterternary\",\"marker\":{\"colorbar\":{\"outlinewidth\":0,\"ticks\":\"\"}}}],\"scattercarpet\":[{\"type\":\"scattercarpet\",\"marker\":{\"colorbar\":{\"outlinewidth\":0,\"ticks\":\"\"}}}],\"carpet\":[{\"aaxis\":{\"endlinecolor\":\"#2a3f5f\",\"gridcolor\":\"white\",\"linecolor\":\"white\",\"minorgridcolor\":\"white\",\"startlinecolor\":\"#2a3f5f\"},\"baxis\":{\"endlinecolor\":\"#2a3f5f\",\"gridcolor\":\"white\",\"linecolor\":\"white\",\"minorgridcolor\":\"white\",\"startlinecolor\":\"#2a3f5f\"},\"type\":\"carpet\"}],\"table\":[{\"cells\":{\"fill\":{\"color\":\"#EBF0F8\"},\"line\":{\"color\":\"white\"}},\"header\":{\"fill\":{\"color\":\"#C8D4E3\"},\"line\":{\"color\":\"white\"}},\"type\":\"table\"}],\"barpolar\":[{\"marker\":{\"line\":{\"color\":\"#E5ECF6\",\"width\":0.5},\"pattern\":{\"fillmode\":\"overlay\",\"size\":10,\"solidity\":0.2}},\"type\":\"barpolar\"}],\"pie\":[{\"automargin\":true,\"type\":\"pie\"}]},\"layout\":{\"autotypenumbers\":\"strict\",\"colorway\":[\"#636efa\",\"#EF553B\",\"#00cc96\",\"#ab63fa\",\"#FFA15A\",\"#19d3f3\",\"#FF6692\",\"#B6E880\",\"#FF97FF\",\"#FECB52\"],\"font\":{\"color\":\"#2a3f5f\"},\"hovermode\":\"closest\",\"hoverlabel\":{\"align\":\"left\"},\"paper_bgcolor\":\"white\",\"plot_bgcolor\":\"#E5ECF6\",\"polar\":{\"bgcolor\":\"#E5ECF6\",\"angularaxis\":{\"gridcolor\":\"white\",\"linecolor\":\"white\",\"ticks\":\"\"},\"radialaxis\":{\"gridcolor\":\"white\",\"linecolor\":\"white\",\"ticks\":\"\"}},\"ternary\":{\"bgcolor\":\"#E5ECF6\",\"aaxis\":{\"gridcolor\":\"white\",\"linecolor\":\"white\",\"ticks\":\"\"},\"baxis\":{\"gridcolor\":\"white\",\"linecolor\":\"white\",\"ticks\":\"\"},\"caxis\":{\"gridcolor\":\"white\",\"linecolor\":\"white\",\"ticks\":\"\"}},\"coloraxis\":{\"colorbar\":{\"outlinewidth\":0,\"ticks\":\"\"}},\"colorscale\":{\"sequential\":[[0.0,\"#0d0887\"],[0.1111111111111111,\"#46039f\"],[0.2222222222222222,\"#7201a8\"],[0.3333333333333333,\"#9c179e\"],[0.4444444444444444,\"#bd3786\"],[0.5555555555555556,\"#d8576b\"],[0.6666666666666666,\"#ed7953\"],[0.7777777777777778,\"#fb9f3a\"],[0.8888888888888888,\"#fdca26\"],[1.0,\"#f0f921\"]],\"sequentialminus\":[[0.0,\"#0d0887\"],[0.1111111111111111,\"#46039f\"],[0.2222222222222222,\"#7201a8\"],[0.3333333333333333,\"#9c179e\"],[0.4444444444444444,\"#bd3786\"],[0.5555555555555556,\"#d8576b\"],[0.6666666666666666,\"#ed7953\"],[0.7777777777777778,\"#fb9f3a\"],[0.8888888888888888,\"#fdca26\"],[1.0,\"#f0f921\"]],\"diverging\":[[0,\"#8e0152\"],[0.1,\"#c51b7d\"],[0.2,\"#de77ae\"],[0.3,\"#f1b6da\"],[0.4,\"#fde0ef\"],[0.5,\"#f7f7f7\"],[0.6,\"#e6f5d0\"],[0.7,\"#b8e186\"],[0.8,\"#7fbc41\"],[0.9,\"#4d9221\"],[1,\"#276419\"]]},\"xaxis\":{\"gridcolor\":\"white\",\"linecolor\":\"white\",\"ticks\":\"\",\"title\":{\"standoff\":15},\"zerolinecolor\":\"white\",\"automargin\":true,\"zerolinewidth\":2},\"yaxis\":{\"gridcolor\":\"white\",\"linecolor\":\"white\",\"ticks\":\"\",\"title\":{\"standoff\":15},\"zerolinecolor\":\"white\",\"automargin\":true,\"zerolinewidth\":2},\"scene\":{\"xaxis\":{\"backgroundcolor\":\"#E5ECF6\",\"gridcolor\":\"white\",\"linecolor\":\"white\",\"showbackground\":true,\"ticks\":\"\",\"zerolinecolor\":\"white\",\"gridwidth\":2},\"yaxis\":{\"backgroundcolor\":\"#E5ECF6\",\"gridcolor\":\"white\",\"linecolor\":\"white\",\"showbackground\":true,\"ticks\":\"\",\"zerolinecolor\":\"white\",\"gridwidth\":2},\"zaxis\":{\"backgroundcolor\":\"#E5ECF6\",\"gridcolor\":\"white\",\"linecolor\":\"white\",\"showbackground\":true,\"ticks\":\"\",\"zerolinecolor\":\"white\",\"gridwidth\":2}},\"shapedefaults\":{\"line\":{\"color\":\"#2a3f5f\"}},\"annotationdefaults\":{\"arrowcolor\":\"#2a3f5f\",\"arrowhead\":0,\"arrowwidth\":1},\"geo\":{\"bgcolor\":\"white\",\"landcolor\":\"#E5ECF6\",\"subunitcolor\":\"white\",\"showland\":true,\"showlakes\":true,\"lakecolor\":\"white\"},\"title\":{\"x\":0.05},\"mapbox\":{\"style\":\"light\"}}},\"title\":{\"text\":\"📊 Weekly Hours Breakdown: Automated vs Manual\"},\"xaxis\":{\"title\":{\"text\":\"Week\"}},\"yaxis\":{\"title\":{\"text\":\"Hours\"}},\"barmode\":\"stack\",\"height\":400,\"showlegend\":true,\"plot_bgcolor\":\"rgba(0,0,0,0)\",\"paper_bgcolor\":\"white\"},                        {\"responsive\": true}                    ).then(function(){\n",
              "                            \n",
              "var gd = document.getElementById('80f1dcba-1bdf-4b21-acb2-df3d973ad604');\n",
              "var x = new MutationObserver(function (mutations, observer) {{\n",
              "        var display = window.getComputedStyle(gd).display;\n",
              "        if (!display || display === 'none') {{\n",
              "            console.log([gd, 'removed!']);\n",
              "            Plotly.purge(gd);\n",
              "            observer.disconnect();\n",
              "        }}\n",
              "}});\n",
              "\n",
              "// Listen for the removal of the full notebook cells\n",
              "var notebookContainer = gd.closest('#notebook-container');\n",
              "if (notebookContainer) {{\n",
              "    x.observe(notebookContainer, {childList: true});\n",
              "}}\n",
              "\n",
              "// Listen for the clearing of the current output cell\n",
              "var outputEl = gd.closest('.output');\n",
              "if (outputEl) {{\n",
              "    x.observe(outputEl, {childList: true});\n",
              "}}\n",
              "\n",
              "                        })                };                            </script>        </div>\n",
              "</body>\n",
              "</html>"
            ]
          },
          "metadata": {}
        }
      ],
      "source": [
        "def create_visualizations():\n",
        "    \"\"\"Generate comprehensive visualizations\"\"\"\n",
        "    df = get_metrics_df()\n",
        "\n",
        "    if df.height == 0:\n",
        "        print(\"❌ No data yet. Submit your first week's metrics!\")\n",
        "        return\n",
        "\n",
        "    # Convert to pandas for Plotly\n",
        "    df_pd = df.to_pandas()\n",
        "\n",
        "    # Create subplot figure with 2x2 grid\n",
        "    fig = make_subplots(\n",
        "        rows=2, cols=2,\n",
        "        subplot_titles=(\n",
        "            '🤖 Automation Index (Target: 80%)',\n",
        "            '⏰ Time Liberation Score',\n",
        "            '📈 Revenue & Client Efficiency',\n",
        "            '💰 Subscription Transition (Target: 50%)'\n",
        "        ),\n",
        "        specs=[\n",
        "            [{\"type\": \"scatter\"}, {\"type\": \"scatter\"}],\n",
        "            [{\"type\": \"scatter\"}, {\"type\": \"scatter\"}]\n",
        "        ],\n",
        "        vertical_spacing=0.12,\n",
        "        horizontal_spacing=0.1\n",
        "    )\n",
        "\n",
        "    # 1. Automation Index\n",
        "    fig.add_trace(\n",
        "        go.Scatter(\n",
        "            x=df_pd['week_number'],\n",
        "            y=df_pd['automation_index'],\n",
        "            mode='lines+markers',\n",
        "            name='Automation %',\n",
        "            line=dict(color='#00D9FF', width=3),\n",
        "            marker=dict(size=10)\n",
        "        ),\n",
        "        row=1, col=1\n",
        "    )\n",
        "    fig.add_trace(\n",
        "        go.Scatter(\n",
        "            x=[df_pd['week_number'].min(), df_pd['week_number'].max()],\n",
        "            y=[80, 80],\n",
        "            mode='lines',\n",
        "            name='Target (80%)',\n",
        "            line=dict(color='#00FF88', width=2, dash='dash'),\n",
        "            showlegend=False\n",
        "        ),\n",
        "        row=1, col=1\n",
        "    )\n",
        "\n",
        "    # 2. Time Liberation Score\n",
        "    fig.add_trace(\n",
        "        go.Scatter(\n",
        "            x=df_pd['week_number'],\n",
        "            y=df_pd['time_saved_vs_baseline'],\n",
        "            mode='lines+markers',\n",
        "            name='Hours Saved',\n",
        "            line=dict(color='#FF6B6B', width=3),\n",
        "            marker=dict(size=10),\n",
        "            fill='tozeroy',\n",
        "            fillcolor='rgba(255, 107, 107, 0.2)'\n",
        "        ),\n",
        "        row=1, col=2\n",
        "    )\n",
        "\n",
        "    # 3. Efficiency Multiples\n",
        "    fig.add_trace(\n",
        "        go.Scatter(\n",
        "            x=df_pd['week_number'],\n",
        "            y=df_pd['revenue_efficiency_multiple'],\n",
        "            mode='lines+markers',\n",
        "            name='Revenue Efficiency',\n",
        "            line=dict(color='#4ECDC4', width=3),\n",
        "            marker=dict(size=10)\n",
        "        ),\n",
        "        row=2, col=1\n",
        "    )\n",
        "    fig.add_trace(\n",
        "        go.Scatter(\n",
        "            x=df_pd['week_number'],\n",
        "            y=df_pd['client_capacity_score'],\n",
        "            mode='lines+markers',\n",
        "            name='Client Capacity',\n",
        "            line=dict(color='#95E1D3', width=3),\n",
        "            marker=dict(size=10)\n",
        "        ),\n",
        "        row=2, col=1\n",
        "    )\n",
        "    fig.add_trace(\n",
        "        go.Scatter(\n",
        "            x=[df_pd['week_number'].min(), df_pd['week_number'].max()],\n",
        "            y=[1.0, 1.0],\n",
        "            mode='lines',\n",
        "            name='Baseline (1.0x)',\n",
        "            line=dict(color='gray', width=1, dash='dot'),\n",
        "            showlegend=False\n",
        "        ),\n",
        "        row=2, col=1\n",
        "    )\n",
        "\n",
        "    # 4. Subscription Transition\n",
        "    fig.add_trace(\n",
        "        go.Scatter(\n",
        "            x=df_pd['week_number'],\n",
        "            y=df_pd['recurring_revenue_pct'],\n",
        "            mode='lines+markers',\n",
        "            name='Recurring Revenue %',\n",
        "            line=dict(color='#FFD93D', width=3),\n",
        "            marker=dict(size=10),\n",
        "            fill='tozeroy',\n",
        "            fillcolor='rgba(255, 217, 61, 0.2)'\n",
        "        ),\n",
        "        row=2, col=2\n",
        "    )\n",
        "    fig.add_trace(\n",
        "        go.Scatter(\n",
        "            x=[df_pd['week_number'].min(), df_pd['week_number'].max()],\n",
        "            y=[50, 50],\n",
        "            mode='lines',\n",
        "            name='Target (50%)',\n",
        "            line=dict(color='#00FF88', width=2, dash='dash'),\n",
        "            showlegend=False\n",
        "        ),\n",
        "        row=2, col=2\n",
        "    )\n",
        "\n",
        "    # Update axes\n",
        "    fig.update_xaxes(title_text=\"Week\", row=1, col=1)\n",
        "    fig.update_xaxes(title_text=\"Week\", row=1, col=2)\n",
        "    fig.update_xaxes(title_text=\"Week\", row=2, col=1)\n",
        "    fig.update_xaxes(title_text=\"Week\", row=2, col=2)\n",
        "\n",
        "    fig.update_yaxes(title_text=\"%\", row=1, col=1)\n",
        "    fig.update_yaxes(title_text=\"Hours\", row=1, col=2)\n",
        "    fig.update_yaxes(title_text=\"Multiple (x)\", row=2, col=1)\n",
        "    fig.update_yaxes(title_text=\"%\", row=2, col=2)\n",
        "\n",
        "    # Update layout\n",
        "    fig.update_layout(\n",
        "        title_text=\"<b>Billion Transformation Dashboard</b>\",\n",
        "        title_font_size=24,\n",
        "        showlegend=True,\n",
        "        height=800,\n",
        "        plot_bgcolor='rgba(0,0,0,0)',\n",
        "        paper_bgcolor='white',\n",
        "        font=dict(size=12)\n",
        "    )\n",
        "\n",
        "    fig.show()\n",
        "\n",
        "    # Create hours breakdown chart\n",
        "    fig_hours = go.Figure()\n",
        "\n",
        "    fig_hours.add_trace(go.Bar(\n",
        "        x=df_pd['week_number'],\n",
        "        y=df_pd['automated_hours'],\n",
        "        name='Automated Hours',\n",
        "        marker_color='#00D9FF'\n",
        "    ))\n",
        "\n",
        "    fig_hours.add_trace(go.Bar(\n",
        "        x=df_pd['week_number'],\n",
        "        y=df_pd['manual_hours'],\n",
        "        name='Manual Hours',\n",
        "        marker_color='#FF6B6B'\n",
        "    ))\n",
        "\n",
        "    fig_hours.update_layout(\n",
        "        title='📊 Weekly Hours Breakdown: Automated vs Manual',\n",
        "        xaxis_title='Week',\n",
        "        yaxis_title='Hours',\n",
        "        barmode='stack',\n",
        "        height=400,\n",
        "        showlegend=True,\n",
        "        plot_bgcolor='rgba(0,0,0,0)',\n",
        "        paper_bgcolor='white'\n",
        "    )\n",
        "\n",
        "    fig_hours.show()\n",
        "\n",
        "# Generate visualizations\n",
        "create_visualizations()"
      ]
    },
    {
      "cell_type": "markdown",
      "metadata": {
        "id": "ykgkfTwzj9rL"
      },
      "source": [
        "---\n",
        "\n",
        "# 📄 Comprehensive Report\n",
        "\n",
        "## Generate Full Transformation Report"
      ]
    },
    {
      "cell_type": "code",
      "execution_count": null,
      "metadata": {
        "colab": {
          "base_uri": "https://localhost:8080/"
        },
        "id": "rvIkMbC1j9rL",
        "outputId": "ebc56e8d-77db-4137-d528-f852969021e2"
      },
      "outputs": [
        {
          "output_type": "stream",
          "name": "stdout",
          "text": [
            "\n",
            "================================================================================\n",
            "🎯 TRANSFORMATION REPORT\n",
            "================================================================================\n",
            "\n",
            "📅 Current Week: 2/12\n",
            "📆 Journey Started: 2025-10-17\n",
            "📆 Latest Update: 2025-10-17\n",
            "\n",
            "--------------------------------------------------------------------------------\n",
            "📊 KEY METRICS\n",
            "--------------------------------------------------------------------------------\n",
            "\n",
            "🤖 Automation Index:\n",
            "   Week 1: 20.0%\n",
            "   Week 2: 20.0%\n",
            "   Change: +0.0% ⚠️\n",
            "   Target: 80% (60.0% to go)\n",
            "\n",
            "⏰ Time Liberation Score:\n",
            "   Hours Saved per Week: -10.0 hours\n",
            "   Time Reduction: -25.0%\n",
            "   Target: 50% reduction (75.0% to go)\n",
            "\n",
            "📈 Revenue Efficiency Multiple:\n",
            "   Current: 0.80x baseline\n",
            "   Status: ⚠️ Below baseline\n",
            "\n",
            "👥 Client Capacity Score:\n",
            "   Current: 0.48x baseline\n",
            "   You can now serve 0.5x more clients per hour worked\n",
            "\n",
            "💰 Subscription Transition Index:\n",
            "   Recurring Revenue: 20.0%\n",
            "   Target: 50% (30.0% to go)\n",
            "\n",
            "--------------------------------------------------------------------------------\n",
            "🎓 GRADUATION READINESS\n",
            "--------------------------------------------------------------------------------\n",
            "⬜ Automation Index ≥ 70%\n",
            "⬜ Time Liberation ≥ 50%\n",
            "⬜ Subscription Revenue ≥ 50%\n",
            "⬜ Complete 12 weeks\n",
            "\n",
            "💪 Keep going! 4 requirement(s) remaining.\n",
            "\n",
            "--------------------------------------------------------------------------------\n",
            "🏆 RECENT PROGRESS\n",
            "--------------------------------------------------------------------------------\n",
            "\n",
            "📝 Week 1:\n",
            "   Automated: Email responses using AI templates\n",
            "   Bottleneck: Client onboarding process\n",
            "\n",
            "📝 Week 2:\n",
            "   Automated: Onboarding\n",
            "   Bottleneck: Client onboarding process\n",
            "\n",
            "================================================================================\n",
            "\n"
          ]
        }
      ],
      "source": [
        "def generate_transformation_report():\n",
        "    \"\"\"Generate comprehensive transformation report\"\"\"\n",
        "    df = get_metrics_df()\n",
        "\n",
        "    if df.height == 0:\n",
        "        print(\"❌ No data yet. Submit your first week's metrics!\")\n",
        "        return\n",
        "\n",
        "    latest = df.tail(1)\n",
        "    first = df.head(1)\n",
        "\n",
        "    week_num = latest[\"week_number\"][0]\n",
        "\n",
        "    print(\"\\n\" + \"=\"*80)\n",
        "    print(\"🎯 TRANSFORMATION REPORT\")\n",
        "    print(\"=\"*80)\n",
        "    print(f\"\\n📅 Current Week: {week_num}/12\")\n",
        "    print(f\"📆 Journey Started: {first['submission_date'][0]}\")\n",
        "    print(f\"📆 Latest Update: {latest['submission_date'][0]}\")\n",
        "\n",
        "    print(\"\\n\" + \"-\"*80)\n",
        "    print(\"📊 KEY METRICS\")\n",
        "    print(\"-\"*80)\n",
        "\n",
        "    # Automation Index\n",
        "    ai_current = latest[\"automation_index\"][0]\n",
        "    ai_start = first[\"automation_index\"][0]\n",
        "    ai_change = ai_current - ai_start\n",
        "    print(f\"\\n🤖 Automation Index:\")\n",
        "    print(f\"   Week 1: {ai_start:.1f}%\")\n",
        "    print(f\"   Week {week_num}: {ai_current:.1f}%\")\n",
        "    print(f\"   Change: {ai_change:+.1f}% {'✅' if ai_change > 0 else '⚠️'}\")\n",
        "    print(f\"   Target: 80% {'✅ ACHIEVED!' if ai_current >= 80 else f'({80-ai_current:.1f}% to go)'}\")\n",
        "\n",
        "    # Time Liberation\n",
        "    time_saved = latest[\"time_saved_vs_baseline\"][0]\n",
        "    baseline_hours = first[\"total_hours\"][0]\n",
        "    time_reduction_pct = (time_saved / baseline_hours * 100) if baseline_hours > 0 else 0\n",
        "    print(f\"\\n⏰ Time Liberation Score:\")\n",
        "    print(f\"   Hours Saved per Week: {time_saved:.1f} hours\")\n",
        "    print(f\"   Time Reduction: {time_reduction_pct:.1f}%\")\n",
        "    print(f\"   Target: 50% reduction {'✅ ACHIEVED!' if time_reduction_pct >= 50 else f'({50-time_reduction_pct:.1f}% to go)'}\")\n",
        "\n",
        "    # Revenue Efficiency\n",
        "    rem = latest[\"revenue_efficiency_multiple\"][0]\n",
        "    print(f\"\\n📈 Revenue Efficiency Multiple:\")\n",
        "    print(f\"   Current: {rem:.2f}x baseline\")\n",
        "    print(f\"   Status: {'✅ Growing!' if rem > 1.0 else '⚠️ Below baseline'}\")\n",
        "\n",
        "    # Client Capacity\n",
        "    ccs = latest[\"client_capacity_score\"][0]\n",
        "    print(f\"\\n👥 Client Capacity Score:\")\n",
        "    print(f\"   Current: {ccs:.2f}x baseline\")\n",
        "    print(f\"   You can now serve {ccs:.1f}x more clients per hour worked\")\n",
        "\n",
        "    # Subscription Transition\n",
        "    sti = latest[\"recurring_revenue_pct\"][0]\n",
        "    print(f\"\\n💰 Subscription Transition Index:\")\n",
        "    print(f\"   Recurring Revenue: {sti:.1f}%\")\n",
        "    print(f\"   Target: 50% {'✅ ACHIEVED!' if sti >= 50 else f'({50-sti:.1f}% to go)'}\")\n",
        "\n",
        "    # Graduation Readiness\n",
        "    print(\"\\n\" + \"-\"*80)\n",
        "    print(\"🎓 GRADUATION READINESS\")\n",
        "    print(\"-\"*80)\n",
        "\n",
        "    requirements = [\n",
        "        (\"Automation Index ≥ 70%\", ai_current >= 70),\n",
        "        (\"Time Liberation ≥ 50%\", time_reduction_pct >= 50),\n",
        "        (\"Subscription Revenue ≥ 50%\", sti >= 50),\n",
        "        (\"Complete 12 weeks\", week_num >= 12)\n",
        "    ]\n",
        "\n",
        "    for req, met in requirements:\n",
        "        status = \"✅\" if met else \"⬜\"\n",
        "        print(f\"{status} {req}\")\n",
        "\n",
        "    ready = all(met for _, met in requirements)\n",
        "    if ready:\n",
        "        print(\"\\n🎉 CONGRATULATIONS! You're ready to graduate!\")\n",
        "    else:\n",
        "        remaining = sum(1 for _, met in requirements if not met)\n",
        "        print(f\"\\n💪 Keep going! {remaining} requirement(s) remaining.\")\n",
        "\n",
        "    print(\"\\n\" + \"-\"*80)\n",
        "    print(\"🏆 RECENT PROGRESS\")\n",
        "    print(\"-\"*80)\n",
        "\n",
        "    if df.height >= 2:\n",
        "        last_2 = df.tail(2)\n",
        "        print(f\"\\n📝 Week {week_num-1}:\")\n",
        "        print(f\"   Automated: {last_2['automated_this_week'][0]}\")\n",
        "        print(f\"   Bottleneck: {last_2['biggest_bottleneck'][0]}\")\n",
        "\n",
        "    print(f\"\\n📝 Week {week_num}:\")\n",
        "    print(f\"   Automated: {latest['automated_this_week'][0]}\")\n",
        "    print(f\"   Bottleneck: {latest['biggest_bottleneck'][0]}\")\n",
        "    print(\"\\n\" + \"=\"*80 + \"\\n\")\n",
        "\n",
        "generate_transformation_report()"
      ]
    },
    {
      "cell_type": "markdown",
      "metadata": {
        "id": "e8w0DDCDj9rL"
      },
      "source": [
        "---\n",
        "\n",
        "# 🎯 Quick Actions\n",
        "\n",
        "## Run These Anytime to Check Your Progress"
      ]
    },
    {
      "cell_type": "code",
      "execution_count": null,
      "metadata": {
        "colab": {
          "base_uri": "https://localhost:8080/"
        },
        "id": "2FB-aF_vj9rL",
        "outputId": "d6749ef8-5bef-4ea8-c85f-1211a7f3aeae"
      },
      "outputs": [
        {
          "output_type": "stream",
          "name": "stdout",
          "text": [
            "\n",
            "================================================================================\n",
            "📊 YOUR TRANSFORMATION PROGRESS\n",
            "================================================================================\n",
            "shape: (2, 6)\n",
            "┌──────┬──────────────┬─────────────┬────────────────┬─────────────────┬─────────────┐\n",
            "│ Week ┆ Automation % ┆ Hours Saved ┆ Rev Efficiency ┆ Client Capacity ┆ Recurring % │\n",
            "│ ---  ┆ ---          ┆ ---         ┆ ---            ┆ ---             ┆ ---         │\n",
            "│ i32  ┆ f32          ┆ f32         ┆ f32            ┆ f32             ┆ f32         │\n",
            "╞══════╪══════════════╪═════════════╪════════════════╪═════════════════╪═════════════╡\n",
            "│ 1    ┆ 20.0         ┆ 0.0         ┆ 1.0            ┆ 1.0             ┆ 20.0        │\n",
            "│ 2    ┆ 20.0         ┆ -10.0       ┆ 0.8            ┆ 0.48            ┆ 20.0        │\n",
            "└──────┴──────────────┴─────────────┴────────────────┴─────────────────┴─────────────┘\n",
            "================================================================================\n",
            "\n",
            "📅 Week 2 Summary:\n",
            "   🤖 Automated this week: Onboarding\n",
            "   🚧 Biggest bottleneck: Client onboarding process\n",
            "\n"
          ]
        }
      ],
      "source": [
        "# Quick view of your current status\n",
        "print_progress_table()"
      ]
    },
    {
      "cell_type": "code",
      "execution_count": null,
      "metadata": {
        "colab": {
          "base_uri": "https://localhost:8080/",
          "height": 1000
        },
        "id": "IlKLZHYuj9rL",
        "outputId": "03e66ba1-e62e-41a7-b12e-fcedc92eebb9"
      },
      "outputs": [
        {
          "output_type": "display_data",
          "data": {
            "text/html": [
              "<html>\n",
              "<head><meta charset=\"utf-8\" /></head>\n",
              "<body>\n",
              "    <div>            <script src=\"https://cdnjs.cloudflare.com/ajax/libs/mathjax/2.7.5/MathJax.js?config=TeX-AMS-MML_SVG\"></script><script type=\"text/javascript\">if (window.MathJax && window.MathJax.Hub && window.MathJax.Hub.Config) {window.MathJax.Hub.Config({SVG: {font: \"STIX-Web\"}});}</script>                <script type=\"text/javascript\">window.PlotlyConfig = {MathJaxConfig: 'local'};</script>\n",
              "        <script charset=\"utf-8\" src=\"https://cdn.plot.ly/plotly-2.35.2.min.js\"></script>                <div id=\"5bfd1a0f-de36-40e2-a5e5-23a2bf397137\" class=\"plotly-graph-div\" style=\"height:800px; width:100%;\"></div>            <script type=\"text/javascript\">                                    window.PLOTLYENV=window.PLOTLYENV || {};                                    if (document.getElementById(\"5bfd1a0f-de36-40e2-a5e5-23a2bf397137\")) {                    Plotly.newPlot(                        \"5bfd1a0f-de36-40e2-a5e5-23a2bf397137\",                        [{\"line\":{\"color\":\"#00D9FF\",\"width\":3},\"marker\":{\"size\":10},\"mode\":\"lines+markers\",\"name\":\"Automation %\",\"x\":[1,2],\"y\":[20.0,20.0],\"type\":\"scatter\",\"xaxis\":\"x\",\"yaxis\":\"y\"},{\"line\":{\"color\":\"#00FF88\",\"dash\":\"dash\",\"width\":2},\"mode\":\"lines\",\"name\":\"Target (80%)\",\"showlegend\":false,\"x\":[1,2],\"y\":[80,80],\"type\":\"scatter\",\"xaxis\":\"x\",\"yaxis\":\"y\"},{\"fill\":\"tozeroy\",\"fillcolor\":\"rgba(255, 107, 107, 0.2)\",\"line\":{\"color\":\"#FF6B6B\",\"width\":3},\"marker\":{\"size\":10},\"mode\":\"lines+markers\",\"name\":\"Hours Saved\",\"x\":[1,2],\"y\":[0.0,-10.0],\"type\":\"scatter\",\"xaxis\":\"x2\",\"yaxis\":\"y2\"},{\"line\":{\"color\":\"#4ECDC4\",\"width\":3},\"marker\":{\"size\":10},\"mode\":\"lines+markers\",\"name\":\"Revenue Efficiency\",\"x\":[1,2],\"y\":[1.0,0.8],\"type\":\"scatter\",\"xaxis\":\"x3\",\"yaxis\":\"y3\"},{\"line\":{\"color\":\"#95E1D3\",\"width\":3},\"marker\":{\"size\":10},\"mode\":\"lines+markers\",\"name\":\"Client Capacity\",\"x\":[1,2],\"y\":[1.0,0.48],\"type\":\"scatter\",\"xaxis\":\"x3\",\"yaxis\":\"y3\"},{\"line\":{\"color\":\"gray\",\"dash\":\"dot\",\"width\":1},\"mode\":\"lines\",\"name\":\"Baseline (1.0x)\",\"showlegend\":false,\"x\":[1,2],\"y\":[1.0,1.0],\"type\":\"scatter\",\"xaxis\":\"x3\",\"yaxis\":\"y3\"},{\"fill\":\"tozeroy\",\"fillcolor\":\"rgba(255, 217, 61, 0.2)\",\"line\":{\"color\":\"#FFD93D\",\"width\":3},\"marker\":{\"size\":10},\"mode\":\"lines+markers\",\"name\":\"Recurring Revenue %\",\"x\":[1,2],\"y\":[20.0,20.0],\"type\":\"scatter\",\"xaxis\":\"x4\",\"yaxis\":\"y4\"},{\"line\":{\"color\":\"#00FF88\",\"dash\":\"dash\",\"width\":2},\"mode\":\"lines\",\"name\":\"Target (50%)\",\"showlegend\":false,\"x\":[1,2],\"y\":[50,50],\"type\":\"scatter\",\"xaxis\":\"x4\",\"yaxis\":\"y4\"}],                        {\"template\":{\"data\":{\"histogram2dcontour\":[{\"type\":\"histogram2dcontour\",\"colorbar\":{\"outlinewidth\":0,\"ticks\":\"\"},\"colorscale\":[[0.0,\"#0d0887\"],[0.1111111111111111,\"#46039f\"],[0.2222222222222222,\"#7201a8\"],[0.3333333333333333,\"#9c179e\"],[0.4444444444444444,\"#bd3786\"],[0.5555555555555556,\"#d8576b\"],[0.6666666666666666,\"#ed7953\"],[0.7777777777777778,\"#fb9f3a\"],[0.8888888888888888,\"#fdca26\"],[1.0,\"#f0f921\"]]}],\"choropleth\":[{\"type\":\"choropleth\",\"colorbar\":{\"outlinewidth\":0,\"ticks\":\"\"}}],\"histogram2d\":[{\"type\":\"histogram2d\",\"colorbar\":{\"outlinewidth\":0,\"ticks\":\"\"},\"colorscale\":[[0.0,\"#0d0887\"],[0.1111111111111111,\"#46039f\"],[0.2222222222222222,\"#7201a8\"],[0.3333333333333333,\"#9c179e\"],[0.4444444444444444,\"#bd3786\"],[0.5555555555555556,\"#d8576b\"],[0.6666666666666666,\"#ed7953\"],[0.7777777777777778,\"#fb9f3a\"],[0.8888888888888888,\"#fdca26\"],[1.0,\"#f0f921\"]]}],\"heatmap\":[{\"type\":\"heatmap\",\"colorbar\":{\"outlinewidth\":0,\"ticks\":\"\"},\"colorscale\":[[0.0,\"#0d0887\"],[0.1111111111111111,\"#46039f\"],[0.2222222222222222,\"#7201a8\"],[0.3333333333333333,\"#9c179e\"],[0.4444444444444444,\"#bd3786\"],[0.5555555555555556,\"#d8576b\"],[0.6666666666666666,\"#ed7953\"],[0.7777777777777778,\"#fb9f3a\"],[0.8888888888888888,\"#fdca26\"],[1.0,\"#f0f921\"]]}],\"heatmapgl\":[{\"type\":\"heatmapgl\",\"colorbar\":{\"outlinewidth\":0,\"ticks\":\"\"},\"colorscale\":[[0.0,\"#0d0887\"],[0.1111111111111111,\"#46039f\"],[0.2222222222222222,\"#7201a8\"],[0.3333333333333333,\"#9c179e\"],[0.4444444444444444,\"#bd3786\"],[0.5555555555555556,\"#d8576b\"],[0.6666666666666666,\"#ed7953\"],[0.7777777777777778,\"#fb9f3a\"],[0.8888888888888888,\"#fdca26\"],[1.0,\"#f0f921\"]]}],\"contourcarpet\":[{\"type\":\"contourcarpet\",\"colorbar\":{\"outlinewidth\":0,\"ticks\":\"\"}}],\"contour\":[{\"type\":\"contour\",\"colorbar\":{\"outlinewidth\":0,\"ticks\":\"\"},\"colorscale\":[[0.0,\"#0d0887\"],[0.1111111111111111,\"#46039f\"],[0.2222222222222222,\"#7201a8\"],[0.3333333333333333,\"#9c179e\"],[0.4444444444444444,\"#bd3786\"],[0.5555555555555556,\"#d8576b\"],[0.6666666666666666,\"#ed7953\"],[0.7777777777777778,\"#fb9f3a\"],[0.8888888888888888,\"#fdca26\"],[1.0,\"#f0f921\"]]}],\"surface\":[{\"type\":\"surface\",\"colorbar\":{\"outlinewidth\":0,\"ticks\":\"\"},\"colorscale\":[[0.0,\"#0d0887\"],[0.1111111111111111,\"#46039f\"],[0.2222222222222222,\"#7201a8\"],[0.3333333333333333,\"#9c179e\"],[0.4444444444444444,\"#bd3786\"],[0.5555555555555556,\"#d8576b\"],[0.6666666666666666,\"#ed7953\"],[0.7777777777777778,\"#fb9f3a\"],[0.8888888888888888,\"#fdca26\"],[1.0,\"#f0f921\"]]}],\"mesh3d\":[{\"type\":\"mesh3d\",\"colorbar\":{\"outlinewidth\":0,\"ticks\":\"\"}}],\"scatter\":[{\"fillpattern\":{\"fillmode\":\"overlay\",\"size\":10,\"solidity\":0.2},\"type\":\"scatter\"}],\"parcoords\":[{\"type\":\"parcoords\",\"line\":{\"colorbar\":{\"outlinewidth\":0,\"ticks\":\"\"}}}],\"scatterpolargl\":[{\"type\":\"scatterpolargl\",\"marker\":{\"colorbar\":{\"outlinewidth\":0,\"ticks\":\"\"}}}],\"bar\":[{\"error_x\":{\"color\":\"#2a3f5f\"},\"error_y\":{\"color\":\"#2a3f5f\"},\"marker\":{\"line\":{\"color\":\"#E5ECF6\",\"width\":0.5},\"pattern\":{\"fillmode\":\"overlay\",\"size\":10,\"solidity\":0.2}},\"type\":\"bar\"}],\"scattergeo\":[{\"type\":\"scattergeo\",\"marker\":{\"colorbar\":{\"outlinewidth\":0,\"ticks\":\"\"}}}],\"scatterpolar\":[{\"type\":\"scatterpolar\",\"marker\":{\"colorbar\":{\"outlinewidth\":0,\"ticks\":\"\"}}}],\"histogram\":[{\"marker\":{\"pattern\":{\"fillmode\":\"overlay\",\"size\":10,\"solidity\":0.2}},\"type\":\"histogram\"}],\"scattergl\":[{\"type\":\"scattergl\",\"marker\":{\"colorbar\":{\"outlinewidth\":0,\"ticks\":\"\"}}}],\"scatter3d\":[{\"type\":\"scatter3d\",\"line\":{\"colorbar\":{\"outlinewidth\":0,\"ticks\":\"\"}},\"marker\":{\"colorbar\":{\"outlinewidth\":0,\"ticks\":\"\"}}}],\"scattermapbox\":[{\"type\":\"scattermapbox\",\"marker\":{\"colorbar\":{\"outlinewidth\":0,\"ticks\":\"\"}}}],\"scatterternary\":[{\"type\":\"scatterternary\",\"marker\":{\"colorbar\":{\"outlinewidth\":0,\"ticks\":\"\"}}}],\"scattercarpet\":[{\"type\":\"scattercarpet\",\"marker\":{\"colorbar\":{\"outlinewidth\":0,\"ticks\":\"\"}}}],\"carpet\":[{\"aaxis\":{\"endlinecolor\":\"#2a3f5f\",\"gridcolor\":\"white\",\"linecolor\":\"white\",\"minorgridcolor\":\"white\",\"startlinecolor\":\"#2a3f5f\"},\"baxis\":{\"endlinecolor\":\"#2a3f5f\",\"gridcolor\":\"white\",\"linecolor\":\"white\",\"minorgridcolor\":\"white\",\"startlinecolor\":\"#2a3f5f\"},\"type\":\"carpet\"}],\"table\":[{\"cells\":{\"fill\":{\"color\":\"#EBF0F8\"},\"line\":{\"color\":\"white\"}},\"header\":{\"fill\":{\"color\":\"#C8D4E3\"},\"line\":{\"color\":\"white\"}},\"type\":\"table\"}],\"barpolar\":[{\"marker\":{\"line\":{\"color\":\"#E5ECF6\",\"width\":0.5},\"pattern\":{\"fillmode\":\"overlay\",\"size\":10,\"solidity\":0.2}},\"type\":\"barpolar\"}],\"pie\":[{\"automargin\":true,\"type\":\"pie\"}]},\"layout\":{\"autotypenumbers\":\"strict\",\"colorway\":[\"#636efa\",\"#EF553B\",\"#00cc96\",\"#ab63fa\",\"#FFA15A\",\"#19d3f3\",\"#FF6692\",\"#B6E880\",\"#FF97FF\",\"#FECB52\"],\"font\":{\"color\":\"#2a3f5f\"},\"hovermode\":\"closest\",\"hoverlabel\":{\"align\":\"left\"},\"paper_bgcolor\":\"white\",\"plot_bgcolor\":\"#E5ECF6\",\"polar\":{\"bgcolor\":\"#E5ECF6\",\"angularaxis\":{\"gridcolor\":\"white\",\"linecolor\":\"white\",\"ticks\":\"\"},\"radialaxis\":{\"gridcolor\":\"white\",\"linecolor\":\"white\",\"ticks\":\"\"}},\"ternary\":{\"bgcolor\":\"#E5ECF6\",\"aaxis\":{\"gridcolor\":\"white\",\"linecolor\":\"white\",\"ticks\":\"\"},\"baxis\":{\"gridcolor\":\"white\",\"linecolor\":\"white\",\"ticks\":\"\"},\"caxis\":{\"gridcolor\":\"white\",\"linecolor\":\"white\",\"ticks\":\"\"}},\"coloraxis\":{\"colorbar\":{\"outlinewidth\":0,\"ticks\":\"\"}},\"colorscale\":{\"sequential\":[[0.0,\"#0d0887\"],[0.1111111111111111,\"#46039f\"],[0.2222222222222222,\"#7201a8\"],[0.3333333333333333,\"#9c179e\"],[0.4444444444444444,\"#bd3786\"],[0.5555555555555556,\"#d8576b\"],[0.6666666666666666,\"#ed7953\"],[0.7777777777777778,\"#fb9f3a\"],[0.8888888888888888,\"#fdca26\"],[1.0,\"#f0f921\"]],\"sequentialminus\":[[0.0,\"#0d0887\"],[0.1111111111111111,\"#46039f\"],[0.2222222222222222,\"#7201a8\"],[0.3333333333333333,\"#9c179e\"],[0.4444444444444444,\"#bd3786\"],[0.5555555555555556,\"#d8576b\"],[0.6666666666666666,\"#ed7953\"],[0.7777777777777778,\"#fb9f3a\"],[0.8888888888888888,\"#fdca26\"],[1.0,\"#f0f921\"]],\"diverging\":[[0,\"#8e0152\"],[0.1,\"#c51b7d\"],[0.2,\"#de77ae\"],[0.3,\"#f1b6da\"],[0.4,\"#fde0ef\"],[0.5,\"#f7f7f7\"],[0.6,\"#e6f5d0\"],[0.7,\"#b8e186\"],[0.8,\"#7fbc41\"],[0.9,\"#4d9221\"],[1,\"#276419\"]]},\"xaxis\":{\"gridcolor\":\"white\",\"linecolor\":\"white\",\"ticks\":\"\",\"title\":{\"standoff\":15},\"zerolinecolor\":\"white\",\"automargin\":true,\"zerolinewidth\":2},\"yaxis\":{\"gridcolor\":\"white\",\"linecolor\":\"white\",\"ticks\":\"\",\"title\":{\"standoff\":15},\"zerolinecolor\":\"white\",\"automargin\":true,\"zerolinewidth\":2},\"scene\":{\"xaxis\":{\"backgroundcolor\":\"#E5ECF6\",\"gridcolor\":\"white\",\"linecolor\":\"white\",\"showbackground\":true,\"ticks\":\"\",\"zerolinecolor\":\"white\",\"gridwidth\":2},\"yaxis\":{\"backgroundcolor\":\"#E5ECF6\",\"gridcolor\":\"white\",\"linecolor\":\"white\",\"showbackground\":true,\"ticks\":\"\",\"zerolinecolor\":\"white\",\"gridwidth\":2},\"zaxis\":{\"backgroundcolor\":\"#E5ECF6\",\"gridcolor\":\"white\",\"linecolor\":\"white\",\"showbackground\":true,\"ticks\":\"\",\"zerolinecolor\":\"white\",\"gridwidth\":2}},\"shapedefaults\":{\"line\":{\"color\":\"#2a3f5f\"}},\"annotationdefaults\":{\"arrowcolor\":\"#2a3f5f\",\"arrowhead\":0,\"arrowwidth\":1},\"geo\":{\"bgcolor\":\"white\",\"landcolor\":\"#E5ECF6\",\"subunitcolor\":\"white\",\"showland\":true,\"showlakes\":true,\"lakecolor\":\"white\"},\"title\":{\"x\":0.05},\"mapbox\":{\"style\":\"light\"}}},\"xaxis\":{\"anchor\":\"y\",\"domain\":[0.0,0.45],\"title\":{\"text\":\"Week\"}},\"yaxis\":{\"anchor\":\"x\",\"domain\":[0.56,1.0],\"title\":{\"text\":\"%\"}},\"xaxis2\":{\"anchor\":\"y2\",\"domain\":[0.55,1.0],\"title\":{\"text\":\"Week\"}},\"yaxis2\":{\"anchor\":\"x2\",\"domain\":[0.56,1.0],\"title\":{\"text\":\"Hours\"}},\"xaxis3\":{\"anchor\":\"y3\",\"domain\":[0.0,0.45],\"title\":{\"text\":\"Week\"}},\"yaxis3\":{\"anchor\":\"x3\",\"domain\":[0.0,0.44],\"title\":{\"text\":\"Multiple (x)\"}},\"xaxis4\":{\"anchor\":\"y4\",\"domain\":[0.55,1.0],\"title\":{\"text\":\"Week\"}},\"yaxis4\":{\"anchor\":\"x4\",\"domain\":[0.0,0.44],\"title\":{\"text\":\"%\"}},\"annotations\":[{\"font\":{\"size\":16},\"showarrow\":false,\"text\":\"🤖 Automation Index (Target: 80%)\",\"x\":0.225,\"xanchor\":\"center\",\"xref\":\"paper\",\"y\":1.0,\"yanchor\":\"bottom\",\"yref\":\"paper\"},{\"font\":{\"size\":16},\"showarrow\":false,\"text\":\"⏰ Time Liberation Score\",\"x\":0.775,\"xanchor\":\"center\",\"xref\":\"paper\",\"y\":1.0,\"yanchor\":\"bottom\",\"yref\":\"paper\"},{\"font\":{\"size\":16},\"showarrow\":false,\"text\":\"📈 Revenue & Client Efficiency\",\"x\":0.225,\"xanchor\":\"center\",\"xref\":\"paper\",\"y\":0.44,\"yanchor\":\"bottom\",\"yref\":\"paper\"},{\"font\":{\"size\":16},\"showarrow\":false,\"text\":\"💰 Subscription Transition (Target: 50%)\",\"x\":0.775,\"xanchor\":\"center\",\"xref\":\"paper\",\"y\":0.44,\"yanchor\":\"bottom\",\"yref\":\"paper\"}],\"title\":{\"font\":{\"size\":24},\"text\":\"\\u003cb\\u003eBillion Transformation Dashboard\\u003c\\u002fb\\u003e\"},\"font\":{\"size\":12},\"showlegend\":true,\"height\":800,\"plot_bgcolor\":\"rgba(0,0,0,0)\",\"paper_bgcolor\":\"white\"},                        {\"responsive\": true}                    ).then(function(){\n",
              "                            \n",
              "var gd = document.getElementById('5bfd1a0f-de36-40e2-a5e5-23a2bf397137');\n",
              "var x = new MutationObserver(function (mutations, observer) {{\n",
              "        var display = window.getComputedStyle(gd).display;\n",
              "        if (!display || display === 'none') {{\n",
              "            console.log([gd, 'removed!']);\n",
              "            Plotly.purge(gd);\n",
              "            observer.disconnect();\n",
              "        }}\n",
              "}});\n",
              "\n",
              "// Listen for the removal of the full notebook cells\n",
              "var notebookContainer = gd.closest('#notebook-container');\n",
              "if (notebookContainer) {{\n",
              "    x.observe(notebookContainer, {childList: true});\n",
              "}}\n",
              "\n",
              "// Listen for the clearing of the current output cell\n",
              "var outputEl = gd.closest('.output');\n",
              "if (outputEl) {{\n",
              "    x.observe(outputEl, {childList: true});\n",
              "}}\n",
              "\n",
              "                        })                };                            </script>        </div>\n",
              "</body>\n",
              "</html>"
            ]
          },
          "metadata": {}
        },
        {
          "output_type": "display_data",
          "data": {
            "text/html": [
              "<html>\n",
              "<head><meta charset=\"utf-8\" /></head>\n",
              "<body>\n",
              "    <div>            <script src=\"https://cdnjs.cloudflare.com/ajax/libs/mathjax/2.7.5/MathJax.js?config=TeX-AMS-MML_SVG\"></script><script type=\"text/javascript\">if (window.MathJax && window.MathJax.Hub && window.MathJax.Hub.Config) {window.MathJax.Hub.Config({SVG: {font: \"STIX-Web\"}});}</script>                <script type=\"text/javascript\">window.PlotlyConfig = {MathJaxConfig: 'local'};</script>\n",
              "        <script charset=\"utf-8\" src=\"https://cdn.plot.ly/plotly-2.35.2.min.js\"></script>                <div id=\"7e0c4051-9c09-444b-9666-dc08ed0be26a\" class=\"plotly-graph-div\" style=\"height:400px; width:100%;\"></div>            <script type=\"text/javascript\">                                    window.PLOTLYENV=window.PLOTLYENV || {};                                    if (document.getElementById(\"7e0c4051-9c09-444b-9666-dc08ed0be26a\")) {                    Plotly.newPlot(                        \"7e0c4051-9c09-444b-9666-dc08ed0be26a\",                        [{\"marker\":{\"color\":\"#00D9FF\"},\"name\":\"Automated Hours\",\"x\":[1,2],\"y\":[8.0,10.0],\"type\":\"bar\"},{\"marker\":{\"color\":\"#FF6B6B\"},\"name\":\"Manual Hours\",\"x\":[1,2],\"y\":[32.0,40.0],\"type\":\"bar\"}],                        {\"template\":{\"data\":{\"histogram2dcontour\":[{\"type\":\"histogram2dcontour\",\"colorbar\":{\"outlinewidth\":0,\"ticks\":\"\"},\"colorscale\":[[0.0,\"#0d0887\"],[0.1111111111111111,\"#46039f\"],[0.2222222222222222,\"#7201a8\"],[0.3333333333333333,\"#9c179e\"],[0.4444444444444444,\"#bd3786\"],[0.5555555555555556,\"#d8576b\"],[0.6666666666666666,\"#ed7953\"],[0.7777777777777778,\"#fb9f3a\"],[0.8888888888888888,\"#fdca26\"],[1.0,\"#f0f921\"]]}],\"choropleth\":[{\"type\":\"choropleth\",\"colorbar\":{\"outlinewidth\":0,\"ticks\":\"\"}}],\"histogram2d\":[{\"type\":\"histogram2d\",\"colorbar\":{\"outlinewidth\":0,\"ticks\":\"\"},\"colorscale\":[[0.0,\"#0d0887\"],[0.1111111111111111,\"#46039f\"],[0.2222222222222222,\"#7201a8\"],[0.3333333333333333,\"#9c179e\"],[0.4444444444444444,\"#bd3786\"],[0.5555555555555556,\"#d8576b\"],[0.6666666666666666,\"#ed7953\"],[0.7777777777777778,\"#fb9f3a\"],[0.8888888888888888,\"#fdca26\"],[1.0,\"#f0f921\"]]}],\"heatmap\":[{\"type\":\"heatmap\",\"colorbar\":{\"outlinewidth\":0,\"ticks\":\"\"},\"colorscale\":[[0.0,\"#0d0887\"],[0.1111111111111111,\"#46039f\"],[0.2222222222222222,\"#7201a8\"],[0.3333333333333333,\"#9c179e\"],[0.4444444444444444,\"#bd3786\"],[0.5555555555555556,\"#d8576b\"],[0.6666666666666666,\"#ed7953\"],[0.7777777777777778,\"#fb9f3a\"],[0.8888888888888888,\"#fdca26\"],[1.0,\"#f0f921\"]]}],\"heatmapgl\":[{\"type\":\"heatmapgl\",\"colorbar\":{\"outlinewidth\":0,\"ticks\":\"\"},\"colorscale\":[[0.0,\"#0d0887\"],[0.1111111111111111,\"#46039f\"],[0.2222222222222222,\"#7201a8\"],[0.3333333333333333,\"#9c179e\"],[0.4444444444444444,\"#bd3786\"],[0.5555555555555556,\"#d8576b\"],[0.6666666666666666,\"#ed7953\"],[0.7777777777777778,\"#fb9f3a\"],[0.8888888888888888,\"#fdca26\"],[1.0,\"#f0f921\"]]}],\"contourcarpet\":[{\"type\":\"contourcarpet\",\"colorbar\":{\"outlinewidth\":0,\"ticks\":\"\"}}],\"contour\":[{\"type\":\"contour\",\"colorbar\":{\"outlinewidth\":0,\"ticks\":\"\"},\"colorscale\":[[0.0,\"#0d0887\"],[0.1111111111111111,\"#46039f\"],[0.2222222222222222,\"#7201a8\"],[0.3333333333333333,\"#9c179e\"],[0.4444444444444444,\"#bd3786\"],[0.5555555555555556,\"#d8576b\"],[0.6666666666666666,\"#ed7953\"],[0.7777777777777778,\"#fb9f3a\"],[0.8888888888888888,\"#fdca26\"],[1.0,\"#f0f921\"]]}],\"surface\":[{\"type\":\"surface\",\"colorbar\":{\"outlinewidth\":0,\"ticks\":\"\"},\"colorscale\":[[0.0,\"#0d0887\"],[0.1111111111111111,\"#46039f\"],[0.2222222222222222,\"#7201a8\"],[0.3333333333333333,\"#9c179e\"],[0.4444444444444444,\"#bd3786\"],[0.5555555555555556,\"#d8576b\"],[0.6666666666666666,\"#ed7953\"],[0.7777777777777778,\"#fb9f3a\"],[0.8888888888888888,\"#fdca26\"],[1.0,\"#f0f921\"]]}],\"mesh3d\":[{\"type\":\"mesh3d\",\"colorbar\":{\"outlinewidth\":0,\"ticks\":\"\"}}],\"scatter\":[{\"fillpattern\":{\"fillmode\":\"overlay\",\"size\":10,\"solidity\":0.2},\"type\":\"scatter\"}],\"parcoords\":[{\"type\":\"parcoords\",\"line\":{\"colorbar\":{\"outlinewidth\":0,\"ticks\":\"\"}}}],\"scatterpolargl\":[{\"type\":\"scatterpolargl\",\"marker\":{\"colorbar\":{\"outlinewidth\":0,\"ticks\":\"\"}}}],\"bar\":[{\"error_x\":{\"color\":\"#2a3f5f\"},\"error_y\":{\"color\":\"#2a3f5f\"},\"marker\":{\"line\":{\"color\":\"#E5ECF6\",\"width\":0.5},\"pattern\":{\"fillmode\":\"overlay\",\"size\":10,\"solidity\":0.2}},\"type\":\"bar\"}],\"scattergeo\":[{\"type\":\"scattergeo\",\"marker\":{\"colorbar\":{\"outlinewidth\":0,\"ticks\":\"\"}}}],\"scatterpolar\":[{\"type\":\"scatterpolar\",\"marker\":{\"colorbar\":{\"outlinewidth\":0,\"ticks\":\"\"}}}],\"histogram\":[{\"marker\":{\"pattern\":{\"fillmode\":\"overlay\",\"size\":10,\"solidity\":0.2}},\"type\":\"histogram\"}],\"scattergl\":[{\"type\":\"scattergl\",\"marker\":{\"colorbar\":{\"outlinewidth\":0,\"ticks\":\"\"}}}],\"scatter3d\":[{\"type\":\"scatter3d\",\"line\":{\"colorbar\":{\"outlinewidth\":0,\"ticks\":\"\"}},\"marker\":{\"colorbar\":{\"outlinewidth\":0,\"ticks\":\"\"}}}],\"scattermapbox\":[{\"type\":\"scattermapbox\",\"marker\":{\"colorbar\":{\"outlinewidth\":0,\"ticks\":\"\"}}}],\"scatterternary\":[{\"type\":\"scatterternary\",\"marker\":{\"colorbar\":{\"outlinewidth\":0,\"ticks\":\"\"}}}],\"scattercarpet\":[{\"type\":\"scattercarpet\",\"marker\":{\"colorbar\":{\"outlinewidth\":0,\"ticks\":\"\"}}}],\"carpet\":[{\"aaxis\":{\"endlinecolor\":\"#2a3f5f\",\"gridcolor\":\"white\",\"linecolor\":\"white\",\"minorgridcolor\":\"white\",\"startlinecolor\":\"#2a3f5f\"},\"baxis\":{\"endlinecolor\":\"#2a3f5f\",\"gridcolor\":\"white\",\"linecolor\":\"white\",\"minorgridcolor\":\"white\",\"startlinecolor\":\"#2a3f5f\"},\"type\":\"carpet\"}],\"table\":[{\"cells\":{\"fill\":{\"color\":\"#EBF0F8\"},\"line\":{\"color\":\"white\"}},\"header\":{\"fill\":{\"color\":\"#C8D4E3\"},\"line\":{\"color\":\"white\"}},\"type\":\"table\"}],\"barpolar\":[{\"marker\":{\"line\":{\"color\":\"#E5ECF6\",\"width\":0.5},\"pattern\":{\"fillmode\":\"overlay\",\"size\":10,\"solidity\":0.2}},\"type\":\"barpolar\"}],\"pie\":[{\"automargin\":true,\"type\":\"pie\"}]},\"layout\":{\"autotypenumbers\":\"strict\",\"colorway\":[\"#636efa\",\"#EF553B\",\"#00cc96\",\"#ab63fa\",\"#FFA15A\",\"#19d3f3\",\"#FF6692\",\"#B6E880\",\"#FF97FF\",\"#FECB52\"],\"font\":{\"color\":\"#2a3f5f\"},\"hovermode\":\"closest\",\"hoverlabel\":{\"align\":\"left\"},\"paper_bgcolor\":\"white\",\"plot_bgcolor\":\"#E5ECF6\",\"polar\":{\"bgcolor\":\"#E5ECF6\",\"angularaxis\":{\"gridcolor\":\"white\",\"linecolor\":\"white\",\"ticks\":\"\"},\"radialaxis\":{\"gridcolor\":\"white\",\"linecolor\":\"white\",\"ticks\":\"\"}},\"ternary\":{\"bgcolor\":\"#E5ECF6\",\"aaxis\":{\"gridcolor\":\"white\",\"linecolor\":\"white\",\"ticks\":\"\"},\"baxis\":{\"gridcolor\":\"white\",\"linecolor\":\"white\",\"ticks\":\"\"},\"caxis\":{\"gridcolor\":\"white\",\"linecolor\":\"white\",\"ticks\":\"\"}},\"coloraxis\":{\"colorbar\":{\"outlinewidth\":0,\"ticks\":\"\"}},\"colorscale\":{\"sequential\":[[0.0,\"#0d0887\"],[0.1111111111111111,\"#46039f\"],[0.2222222222222222,\"#7201a8\"],[0.3333333333333333,\"#9c179e\"],[0.4444444444444444,\"#bd3786\"],[0.5555555555555556,\"#d8576b\"],[0.6666666666666666,\"#ed7953\"],[0.7777777777777778,\"#fb9f3a\"],[0.8888888888888888,\"#fdca26\"],[1.0,\"#f0f921\"]],\"sequentialminus\":[[0.0,\"#0d0887\"],[0.1111111111111111,\"#46039f\"],[0.2222222222222222,\"#7201a8\"],[0.3333333333333333,\"#9c179e\"],[0.4444444444444444,\"#bd3786\"],[0.5555555555555556,\"#d8576b\"],[0.6666666666666666,\"#ed7953\"],[0.7777777777777778,\"#fb9f3a\"],[0.8888888888888888,\"#fdca26\"],[1.0,\"#f0f921\"]],\"diverging\":[[0,\"#8e0152\"],[0.1,\"#c51b7d\"],[0.2,\"#de77ae\"],[0.3,\"#f1b6da\"],[0.4,\"#fde0ef\"],[0.5,\"#f7f7f7\"],[0.6,\"#e6f5d0\"],[0.7,\"#b8e186\"],[0.8,\"#7fbc41\"],[0.9,\"#4d9221\"],[1,\"#276419\"]]},\"xaxis\":{\"gridcolor\":\"white\",\"linecolor\":\"white\",\"ticks\":\"\",\"title\":{\"standoff\":15},\"zerolinecolor\":\"white\",\"automargin\":true,\"zerolinewidth\":2},\"yaxis\":{\"gridcolor\":\"white\",\"linecolor\":\"white\",\"ticks\":\"\",\"title\":{\"standoff\":15},\"zerolinecolor\":\"white\",\"automargin\":true,\"zerolinewidth\":2},\"scene\":{\"xaxis\":{\"backgroundcolor\":\"#E5ECF6\",\"gridcolor\":\"white\",\"linecolor\":\"white\",\"showbackground\":true,\"ticks\":\"\",\"zerolinecolor\":\"white\",\"gridwidth\":2},\"yaxis\":{\"backgroundcolor\":\"#E5ECF6\",\"gridcolor\":\"white\",\"linecolor\":\"white\",\"showbackground\":true,\"ticks\":\"\",\"zerolinecolor\":\"white\",\"gridwidth\":2},\"zaxis\":{\"backgroundcolor\":\"#E5ECF6\",\"gridcolor\":\"white\",\"linecolor\":\"white\",\"showbackground\":true,\"ticks\":\"\",\"zerolinecolor\":\"white\",\"gridwidth\":2}},\"shapedefaults\":{\"line\":{\"color\":\"#2a3f5f\"}},\"annotationdefaults\":{\"arrowcolor\":\"#2a3f5f\",\"arrowhead\":0,\"arrowwidth\":1},\"geo\":{\"bgcolor\":\"white\",\"landcolor\":\"#E5ECF6\",\"subunitcolor\":\"white\",\"showland\":true,\"showlakes\":true,\"lakecolor\":\"white\"},\"title\":{\"x\":0.05},\"mapbox\":{\"style\":\"light\"}}},\"title\":{\"text\":\"📊 Weekly Hours Breakdown: Automated vs Manual\"},\"xaxis\":{\"title\":{\"text\":\"Week\"}},\"yaxis\":{\"title\":{\"text\":\"Hours\"}},\"barmode\":\"stack\",\"height\":400,\"showlegend\":true,\"plot_bgcolor\":\"rgba(0,0,0,0)\",\"paper_bgcolor\":\"white\"},                        {\"responsive\": true}                    ).then(function(){\n",
              "                            \n",
              "var gd = document.getElementById('7e0c4051-9c09-444b-9666-dc08ed0be26a');\n",
              "var x = new MutationObserver(function (mutations, observer) {{\n",
              "        var display = window.getComputedStyle(gd).display;\n",
              "        if (!display || display === 'none') {{\n",
              "            console.log([gd, 'removed!']);\n",
              "            Plotly.purge(gd);\n",
              "            observer.disconnect();\n",
              "        }}\n",
              "}});\n",
              "\n",
              "// Listen for the removal of the full notebook cells\n",
              "var notebookContainer = gd.closest('#notebook-container');\n",
              "if (notebookContainer) {{\n",
              "    x.observe(notebookContainer, {childList: true});\n",
              "}}\n",
              "\n",
              "// Listen for the clearing of the current output cell\n",
              "var outputEl = gd.closest('.output');\n",
              "if (outputEl) {{\n",
              "    x.observe(outputEl, {childList: true});\n",
              "}}\n",
              "\n",
              "                        })                };                            </script>        </div>\n",
              "</body>\n",
              "</html>"
            ]
          },
          "metadata": {}
        }
      ],
      "source": [
        "# View all visualizations\n",
        "create_visualizations()"
      ]
    },
    {
      "cell_type": "code",
      "execution_count": null,
      "metadata": {
        "colab": {
          "base_uri": "https://localhost:8080/"
        },
        "id": "B0ZEkuB3j9rL",
        "outputId": "882f4640-8f38-4a49-85d5-43d19f724a05"
      },
      "outputs": [
        {
          "output_type": "stream",
          "name": "stdout",
          "text": [
            "\n",
            "================================================================================\n",
            "🎯 TRANSFORMATION REPORT\n",
            "================================================================================\n",
            "\n",
            "📅 Current Week: 1/12\n",
            "📆 Journey Started: 2025-10-17\n",
            "📆 Latest Update: 2025-10-17\n",
            "\n",
            "--------------------------------------------------------------------------------\n",
            "📊 KEY METRICS\n",
            "--------------------------------------------------------------------------------\n",
            "\n",
            "🤖 Automation Index:\n",
            "   Week 1: 20.0%\n",
            "   Week 1: 20.0%\n",
            "   Change: +0.0% ⚠️\n",
            "   Target: 80% (60.0% to go)\n",
            "\n",
            "⏰ Time Liberation Score:\n",
            "   Hours Saved per Week: 0.0 hours\n",
            "   Time Reduction: 0.0%\n",
            "   Target: 50% reduction (50.0% to go)\n",
            "\n",
            "📈 Revenue Efficiency Multiple:\n",
            "   Current: 1.00x baseline\n",
            "   Status: ⚠️ Below baseline\n",
            "\n",
            "👥 Client Capacity Score:\n",
            "   Current: 1.00x baseline\n",
            "   You can now serve 1.0x more clients per hour worked\n",
            "\n",
            "💰 Subscription Transition Index:\n",
            "   Recurring Revenue: 20.0%\n",
            "   Target: 50% (30.0% to go)\n",
            "\n",
            "--------------------------------------------------------------------------------\n",
            "🎓 GRADUATION READINESS\n",
            "--------------------------------------------------------------------------------\n",
            "⬜ Automation Index ≥ 70%\n",
            "⬜ Time Liberation ≥ 50%\n",
            "⬜ Subscription Revenue ≥ 50%\n",
            "⬜ Complete 12 weeks\n",
            "\n",
            "💪 Keep going! 4 requirement(s) remaining.\n",
            "\n",
            "--------------------------------------------------------------------------------\n",
            "🏆 RECENT PROGRESS\n",
            "--------------------------------------------------------------------------------\n",
            "\n",
            "📝 Week 1:\n",
            "   Automated: Email responses using AI templates\n",
            "   Bottleneck: Client onboarding process\n",
            "\n",
            "================================================================================\n",
            "\n"
          ]
        }
      ],
      "source": [
        "# Get full transformation report\n",
        "generate_transformation_report()"
      ]
    },
    {
      "cell_type": "markdown",
      "metadata": {
        "id": "tZR_1RHZj9rL"
      },
      "source": [
        "---\n",
        "\n",
        "# 📊 Data Export & Backup\n",
        "\n",
        "## Export Your Data (Optional)"
      ]
    },
    {
      "cell_type": "code",
      "execution_count": null,
      "metadata": {
        "id": "TPWSDwG2j9rL"
      },
      "outputs": [],
      "source": [
        "# Export your data to CSV for backup\n",
        "df = get_metrics_df()\n",
        "\n",
        "if df.height > 0:\n",
        "    df.write_csv(\"transformation_backup.csv\")\n",
        "    print(\"✅ Data exported to 'transformation_backup.csv'\")\n",
        "    print(f\"📊 Total weeks tracked: {df.height}\")\n",
        "else:\n",
        "    print(\"❌ No data to export yet\")"
      ]
    },
    {
      "cell_type": "markdown",
      "metadata": {
        "id": "bTcaX8flj9rL"
      },
      "source": [
        "## View Raw Data"
      ]
    },
    {
      "cell_type": "code",
      "execution_count": null,
      "metadata": {
        "id": "M61rz-gQj9rL"
      },
      "outputs": [],
      "source": [
        "# View your complete dataset\n",
        "df = get_metrics_df()\n",
        "\n",
        "if df.height > 0:\n",
        "    print(df)\n",
        "else:\n",
        "    print(\"❌ No data yet. Submit your first week's metrics!\")"
      ]
    },
    {
      "cell_type": "markdown",
      "metadata": {
        "id": "htLwfe2ej9rM"
      },
      "source": [
        "---\n",
        "\n",
        "# 📝 Example Usage\n",
        "\n",
        "## Sample Data Entry (For Testing)\n",
        "\n",
        "Here's an example of how to enter data for multiple weeks:"
      ]
    },
    {
      "cell_type": "code",
      "execution_count": null,
      "metadata": {
        "id": "H5G8GlUdj9rM"
      },
      "outputs": [],
      "source": [
        "# Example: Week 1 (Baseline)\n",
        "# submit_weekly_metrics(\n",
        "#     week_number=1,\n",
        "#     total_hours_worked=50.0,\n",
        "#     automated_hours=5.0,\n",
        "#     active_clients=3,\n",
        "#     revenue_ratio_to_baseline=1.0,\n",
        "#     recurring_revenue_percentage=10.0,\n",
        "#     what_i_automated_this_week=\"Set up email templates\",\n",
        "#     biggest_bottleneck_now=\"Manual client reporting\"\n",
        "# )\n",
        "\n",
        "# Example: Week 4 (Some Progress)\n",
        "# submit_weekly_metrics(\n",
        "#     week_number=4,\n",
        "#     total_hours_worked=42.0,\n",
        "#     automated_hours=18.0,\n",
        "#     active_clients=5,\n",
        "#     revenue_ratio_to_baseline=1.3,\n",
        "#     recurring_revenue_percentage=30.0,\n",
        "#     what_i_automated_this_week=\"Client reporting dashboard with auto-updates\",\n",
        "#     biggest_bottleneck_now=\"Proposal creation process\"\n",
        "# )\n",
        "\n",
        "# Example: Week 8 (Significant Progress)\n",
        "# submit_weekly_metrics(\n",
        "#     week_number=8,\n",
        "#     total_hours_worked=35.0,\n",
        "#     automated_hours=25.0,\n",
        "#     active_clients=8,\n",
        "#     revenue_ratio_to_baseline=1.8,\n",
        "#     recurring_revenue_percentage=55.0,\n",
        "#     what_i_automated_this_week=\"AI-powered proposal generator\",\n",
        "#     biggest_bottleneck_now=\"Scaling client onboarding\"\n",
        "# )\n",
        "\n",
        "print(\"📝 Example code above - uncomment to test with sample data\")"
      ]
    },
    {
      "cell_type": "markdown",
      "metadata": {
        "id": "6-Yxw1Brj9rM"
      },
      "source": [
        "---\n",
        "\n",
        "# 🎓 Graduation Checklist\n",
        "\n",
        "To complete the Billion Transformation program, you need:\n",
        "\n",
        "- ✅ **Automation Index ≥ 70%** - Your work is mostly automated\n",
        "- ✅ **Time Liberation ≥ 50%** - You've cut your hours in half\n",
        "- ✅ **Subscription Revenue ≥ 50%** - Recurring revenue model established\n",
        "- ✅ **Complete 12 weeks** - Full transformation journey documented\n",
        "\n",
        "**Run the report cell above to check your graduation status!**"
      ]
    },
    {
      "cell_type": "markdown",
      "metadata": {
        "id": "zOK00K16j9rM"
      },
      "source": [
        "---\n",
        "\n",
        "# 💡 Tips & Best Practices\n",
        "\n",
        "## Weekly Routine\n",
        "1. **Same day each week** - Pick a consistent day (e.g., Friday afternoon)\n",
        "2. **Review before submitting** - Look at last week's bottleneck\n",
        "3. **Be honest** - Accurate data leads to better insights\n",
        "4. **Celebrate wins** - Review your progress charts regularly\n",
        "\n",
        "## Measuring Automation\n",
        "- **Automated hours** = Work done by systems/AI without your intervention\n",
        "- **Manual hours** = Time you spend doing the work yourself\n",
        "- Count setup time as manual (it's an investment!)\n",
        "\n",
        "## Revenue Ratio Guidelines\n",
        "- Week 1 is always **1.0** (your baseline)\n",
        "- 20% growth = **1.2**\n",
        "- 50% growth = **1.5**\n",
        "- Doubled = **2.0**\n",
        "\n",
        "## Privacy & Data\n",
        "- Your database file (`billion_tracker.db`) stays on your machine\n",
        "- Backup regularly using the export cell\n",
        "- No actual revenue numbers are stored - only ratios\n",
        "\n",
        "---\n",
        "\n",
        "### 🚀 Ready to transform your agency? Start tracking your first week above!"
      ]
    }
  ],
  "metadata": {
    "kernelspec": {
      "display_name": "Python 3",
      "language": "python",
      "name": "python3"
    },
    "language_info": {
      "codemirror_mode": {
        "name": "ipython",
        "version": 3
      },
      "file_extension": ".py",
      "mimetype": "text/x-python",
      "name": "python",
      "nbconvert_exporter": "python",
      "pygments_lexer": "ipython3",
      "version": "3.8.0"
    },
    "colab": {
      "provenance": []
    }
  },
  "nbformat": 4,
  "nbformat_minor": 0
}